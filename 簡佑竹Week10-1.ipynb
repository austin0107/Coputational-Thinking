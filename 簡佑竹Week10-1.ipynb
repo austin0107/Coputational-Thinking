{
  "nbformat": 4,
  "nbformat_minor": 0,
  "metadata": {
    "colab": {
      "name": "Week10-1.ipynb",
      "provenance": [],
      "authorship_tag": "ABX9TyOhMKQKO/lm00rYlGXZYFE4",
      "include_colab_link": true
    },
    "kernelspec": {
      "name": "python3",
      "display_name": "Python 3"
    }
  },
  "cells": [
    {
      "cell_type": "markdown",
      "metadata": {
        "id": "view-in-github",
        "colab_type": "text"
      },
      "source": [
        "<a href=\"https://colab.research.google.com/github/austin0107/Coputational-Thinking/blob/master/Week10_1.ipynb\" target=\"_parent\"><img src=\"https://colab.research.google.com/assets/colab-badge.svg\" alt=\"Open In Colab\"/></a>"
      ]
    },
    {
      "cell_type": "code",
      "metadata": {
        "colab": {
          "base_uri": "https://localhost:8080/"
        },
        "id": "UEiwaJNRtsGM",
        "outputId": "dc062361-e6ef-45e7-b060-cc9306bdffaa"
      },
      "source": [
        "#  寫程式是怎麼一回事\n",
        "\n",
        "## Question: [魔球]那部電影值不值得看? 老闆想了解一下那部電影的相關資訊\n",
        "\n",
        "# Step1 : 上網找 哪裡找 找什麼 如何回覆\n",
        "## 從IMDb電影資料庫找出要記錄的魔球電影相關資訊\n",
        "## 網址 : https://www.imdb.com/title/tt1210166/?ref_=fn_al_tt_1\n",
        "## 相關資訊 : 電影名稱 、電影上映年份 、電影時間長度 、電影的導演 、電影的主角\n",
        "\n",
        "# Step2 : Input-Process-Output\n",
        "\n",
        "# Step3 : Coding\n",
        "\n",
        "movie_title = \"Money_Ball\"\n",
        "release_year = \"2011\"\n",
        "movie_time_mins = 133\n",
        "movie_rating = 7.6\n",
        "director = \"Bennett Miller\"\n",
        "stars_1 = \"Brad Pitt\"\n",
        "stars_2 = \"Robin Wright\"\n",
        "stars_3 = \"Jonah Hill\"\n",
        "\n",
        "print(\"電影英文名稱為\",movie_title)\n",
        "print(\"電影上映年份為西元\",release_year,\"年\")\n",
        "print(\"電影時間長度為\",movie_time_mins,\"分鐘\")\n",
        "print(\"IMDb電影評價為\",movie_rating,\"顆星\")\n",
        "print(\"電影的導演為\",director)\n",
        "print(\"電影主角為\",stars_1,\" \",stars_2,\" \",stars_3)"
      ],
      "execution_count": 18,
      "outputs": [
        {
          "output_type": "stream",
          "text": [
            "電影英文名稱為 Money_Ball\n",
            "電影上映年份為西元 2011 年\n",
            "電影時間長度為 133 分鐘\n",
            "IMDb電影評價為 7.6 顆星\n",
            "電影的導演為 Bennett Miller\n",
            "電影主角為 Brad Pitt   Robin Wright   Jonah Hill\n"
          ],
          "name": "stdout"
        }
      ]
    }
  ]
}
