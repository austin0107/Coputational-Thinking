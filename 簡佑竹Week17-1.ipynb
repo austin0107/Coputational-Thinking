{
  "nbformat": 4,
  "nbformat_minor": 0,
  "metadata": {
    "colab": {
      "name": "簡佑竹Week17-1.ipynb",
      "provenance": [],
      "authorship_tag": "ABX9TyOkO0R0fV8zhaqfRbm9GQiD",
      "include_colab_link": true
    },
    "kernelspec": {
      "name": "python3",
      "display_name": "Python 3"
    }
  },
  "cells": [
    {
      "cell_type": "markdown",
      "metadata": {
        "id": "view-in-github",
        "colab_type": "text"
      },
      "source": [
        "<a href=\"https://colab.research.google.com/github/austin0107/Coputational-Thinking/blob/master/%E7%B0%A1%E4%BD%91%E7%AB%B9Week17-1.ipynb\" target=\"_parent\"><img src=\"https://colab.research.google.com/assets/colab-badge.svg\" alt=\"Open In Colab\"/></a>"
      ]
    },
    {
      "cell_type": "code",
      "metadata": {
        "colab": {
          "base_uri": "https://localhost:8080/"
        },
        "id": "UrbVsz0O08H7",
        "outputId": "1ef9b139-1ca0-4856-e7ee-20b6ed5b95c0"
      },
      "source": [
        "n = 5\r\n",
        "while n < 10:\r\n",
        "  print('n小於10')\r\n",
        "  print('我還在迴圈中!!')\r\n",
        "  n = 100\r\n",
        "print('我出來了')"
      ],
      "execution_count": 11,
      "outputs": [
        {
          "output_type": "stream",
          "text": [
            "n小於10\n",
            "我還在迴圈中!!\n",
            "我出來了\n"
          ],
          "name": "stdout"
        }
      ]
    },
    {
      "cell_type": "code",
      "metadata": {
        "colab": {
          "base_uri": "https://localhost:8080/"
        },
        "id": "zYBqiLzY2vDL",
        "outputId": "014ebfa4-c795-495b-ecfc-2934724eef5c"
      },
      "source": [
        "n = 5\r\n",
        "while n < 10:\r\n",
        "  print('n小於10')\r\n",
        "  print('我要出迴圈')\r\n",
        "  n = n + 1\r\n",
        "print('我出來了')"
      ],
      "execution_count": 10,
      "outputs": [
        {
          "output_type": "stream",
          "text": [
            "n小於10\n",
            "我要出迴圈\n",
            "n小於10\n",
            "我要出迴圈\n",
            "n小於10\n",
            "我要出迴圈\n",
            "n小於10\n",
            "我要出迴圈\n",
            "n小於10\n",
            "我要出迴圈\n",
            "我出來了\n"
          ],
          "name": "stdout"
        }
      ]
    },
    {
      "cell_type": "code",
      "metadata": {
        "colab": {
          "base_uri": "https://localhost:8080/"
        },
        "id": "_IGeWPwU3K4M",
        "outputId": "0666790e-c8e0-48b3-eb64-4b08434efc8d"
      },
      "source": [
        "n = 1\r\n",
        "while n <= 5:\r\n",
        "  print('變數是', n)\r\n",
        "  n = n + 1\r\n",
        "print('Finished')"
      ],
      "execution_count": 21,
      "outputs": [
        {
          "output_type": "stream",
          "text": [
            "變數是 1\n",
            "變數是 2\n",
            "變數是 3\n",
            "變數是 4\n",
            "變數是 5\n",
            "Finished\n"
          ],
          "name": "stdout"
        }
      ]
    },
    {
      "cell_type": "code",
      "metadata": {
        "colab": {
          "base_uri": "https://localhost:8080/"
        },
        "id": "PinPcFzV3sNZ",
        "outputId": "6135c65e-dcb6-4be4-a0c3-306d1a12aec1"
      },
      "source": [
        "n = 0\r\n",
        "while n < 10:\r\n",
        "  print('Hello')\r\n",
        "  n += 1"
      ],
      "execution_count": 30,
      "outputs": [
        {
          "output_type": "stream",
          "text": [
            "Hello\n",
            "Hello\n",
            "Hello\n",
            "Hello\n",
            "Hello\n",
            "Hello\n",
            "Hello\n",
            "Hello\n",
            "Hello\n",
            "Hello\n"
          ],
          "name": "stdout"
        }
      ]
    },
    {
      "cell_type": "code",
      "metadata": {
        "colab": {
          "base_uri": "https://localhost:8080/"
        },
        "id": "THT-_OO75X0q",
        "outputId": "c963492e-ec80-4ef7-c802-bdbc6a57fcea"
      },
      "source": [
        "secret_number = 87 \r\n",
        "n = int(input('Guess a number between 1 to 100. '))\r\n",
        "while n != secret_number:\r\n",
        "    if n > secret_number:\r\n",
        "      print('Guess smaller.')\r\n",
        "    else:\r\n",
        "      print('Guess bigger.')\r\n",
        "    n = int(input('Guess again. '))\r\n",
        "print('You are right.')"
      ],
      "execution_count": 34,
      "outputs": [
        {
          "output_type": "stream",
          "text": [
            "Guess a number between 1 to 100. 60\n",
            "Guess bigger.\n",
            "Guess again. 100\n",
            "Guess smaller.\n",
            "Guess again. 80\n",
            "Guess bigger.\n",
            "Guess again. 90\n",
            "Guess smaller.\n",
            "Guess again. 85\n",
            "Guess bigger.\n",
            "Guess again. 87\n",
            "You are right.\n"
          ],
          "name": "stdout"
        }
      ]
    },
    {
      "cell_type": "code",
      "metadata": {
        "colab": {
          "base_uri": "https://localhost:8080/"
        },
        "id": "zH30aGRgxlZc",
        "outputId": "7c8d8bf5-a234-4fa8-9e0f-2ef031219a69"
      },
      "source": [
        "has_zero_legs = 0 \r\n",
        "has_two_legs = 0 \r\n",
        "has_four_legs = 0\r\n",
        "animals = [4, 0, 2, 4, 2, 0, 2, 4, 4, 2, 0, 2, 4]\r\n",
        "for i in range(len(animals)):\r\n",
        "   if animals[i] == 0:\r\n",
        "     has_zero_legs += 1\r\n",
        "   elif animals[i] == 2:\r\n",
        "     has_two_legs += 1\r\n",
        "   elif animals[i] == 4:\r\n",
        "     has_four_legs += 1\r\n",
        "animal_summary = f\"Animals with no legs: {has_zero_legs}.  Animals with two legs: {has_two_legs}.  Animals with four legs: {has_four_legs}.\"\r\n",
        "print(animal_summary)"
      ],
      "execution_count": 46,
      "outputs": [
        {
          "output_type": "stream",
          "text": [
            "Animals with no legs: 3.  Animals with two legs: 5.  Animals with four legs: 5.\n"
          ],
          "name": "stdout"
        }
      ]
    }
  ]
}