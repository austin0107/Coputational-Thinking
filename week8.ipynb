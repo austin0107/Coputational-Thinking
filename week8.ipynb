{
  "nbformat": 4,
  "nbformat_minor": 0,
  "metadata": {
    "colab": {
      "name": "week8.ipynb",
      "provenance": [],
      "collapsed_sections": [],
      "authorship_tag": "ABX9TyMbmyvZtnMYKDsMS55bQVua",
      "include_colab_link": true
    },
    "kernelspec": {
      "name": "python3",
      "display_name": "Python 3"
    }
  },
  "cells": [
    {
      "cell_type": "markdown",
      "metadata": {
        "id": "view-in-github",
        "colab_type": "text"
      },
      "source": [
        "<a href=\"https://colab.research.google.com/github/austin0107/Coputational-Thinking/blob/master/week8.ipynb\" target=\"_parent\"><img src=\"https://colab.research.google.com/assets/colab-badge.svg\" alt=\"Open In Colab\"/></a>"
      ]
    },
    {
      "cell_type": "code",
      "metadata": {
        "id": "3N8_q4pdIBoT",
        "outputId": "bd914727-d405-4bd2-9714-aa35be3b32fb",
        "colab": {
          "base_uri": "https://localhost:8080/"
        }
      },
      "source": [
        "cloth = int(input('請輸入上衣購買數量?'))\n",
        "trousers = int(input('請輸入褲子購買數量?'))\n",
        "vest = int(input('請輸入背心購買數量?'))\n",
        "\n",
        "total = cloth*300 + trousers*350 + vest*400\n",
        "\n",
        "print('訂購服裝的總金額為',total)"
      ],
      "execution_count": 3,
      "outputs": [
        {
          "output_type": "stream",
          "text": [
            "請輸入上衣購買數量?5\n",
            "請輸入褲子購買數量?1\n",
            "請輸入背心購買數量?2\n",
            "訂購服裝的總金額為 2650\n"
          ],
          "name": "stdout"
        }
      ]
    },
    {
      "cell_type": "code",
      "metadata": {
        "id": "tXsIy24zJOZ2",
        "outputId": "e817d7c4-f3b3-4c42-ddbf-c38552068cfe",
        "colab": {
          "base_uri": "https://localhost:8080/"
        }
      },
      "source": [
        "cans = int(input('請輸入購買飲料的罐數?'))\n",
        "\n",
        "total = (cans//12)*200 + (cans%12)*20\n",
        "\n",
        "print('需花費',total)"
      ],
      "execution_count": 4,
      "outputs": [
        {
          "output_type": "stream",
          "text": [
            "請輸入購買飲料的罐數?30\n",
            "需花費 520\n"
          ],
          "name": "stdout"
        }
      ]
    },
    {
      "cell_type": "code",
      "metadata": {
        "id": "8967mZs9LB1l",
        "outputId": "ee907ce9-1dc1-4c28-a18b-1026950ad9ba",
        "colab": {
          "base_uri": "https://localhost:8080/"
        }
      },
      "source": [
        "fir = int(input('請輸入第一次期中考成績'))\n",
        "sec = int(input('請輸入第二次期中考成績'))\n",
        "fin = int(input('請輸入期末考成績'))\n",
        "\n",
        "sum = fir + sec + fin\n",
        "avg = sum/3\n",
        "\n",
        "print('三次成績的加總',sum)\n",
        "print('三次成績的平均',avg)"
      ],
      "execution_count": 5,
      "outputs": [
        {
          "output_type": "stream",
          "text": [
            "請輸入第一次期中考成績75\n",
            "請輸入第二次期中考成績80\n",
            "請輸入期末考成績65\n",
            "三次成績的加總 220\n",
            "三次成績的平均 73.33333333333333\n"
          ],
          "name": "stdout"
        }
      ]
    }
  ]
}