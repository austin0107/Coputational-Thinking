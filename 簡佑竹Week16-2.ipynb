{
  "nbformat": 4,
  "nbformat_minor": 0,
  "metadata": {
    "colab": {
      "name": "簡佑竹Week16-2.ipynb",
      "provenance": [],
      "authorship_tag": "ABX9TyOxslfgKWH5Q5N1FNsCJWjf",
      "include_colab_link": true
    },
    "kernelspec": {
      "name": "python3",
      "display_name": "Python 3"
    }
  },
  "cells": [
    {
      "cell_type": "markdown",
      "metadata": {
        "id": "view-in-github",
        "colab_type": "text"
      },
      "source": [
        "<a href=\"https://colab.research.google.com/github/austin0107/Coputational-Thinking/blob/master/%E7%B0%A1%E4%BD%91%E7%AB%B9Week16-2.ipynb\" target=\"_parent\"><img src=\"https://colab.research.google.com/assets/colab-badge.svg\" alt=\"Open In Colab\"/></a>"
      ]
    },
    {
      "cell_type": "code",
      "metadata": {
        "colab": {
          "base_uri": "https://localhost:8080/"
        },
        "id": "zT6D1GAuDEBW",
        "outputId": "25d8bd2f-5f26-4895-8ea8-ba2b0724a7fb"
      },
      "source": [
        "year = int(input('enter a year '))\r\n",
        "if year % 400 == 0:\r\n",
        "  print(year,'是閏年')\r\n",
        "elif year % 100 == 0:\r\n",
        "  print(year,'不是閏年')\r\n",
        "elif year % 4 == 0:\r\n",
        "  print(year,'是閏年')  \r\n",
        "else:\r\n",
        "  print(year,'不是閏年')"
      ],
      "execution_count": 63,
      "outputs": [
        {
          "output_type": "stream",
          "text": [
            "enter a year 2021\n",
            "2021 不是閏年\n"
          ],
          "name": "stdout"
        }
      ]
    },
    {
      "cell_type": "code",
      "metadata": {
        "colab": {
          "base_uri": "https://localhost:8080/"
        },
        "id": "U8QQl9XtsT2L",
        "outputId": "ee45e78a-1df7-40c5-dd6a-10f269fc45b8"
      },
      "source": [
        "score = int(input('enter your score '))\r\n",
        "if score >= 80:\r\n",
        "  print('非常好!')\r\n",
        "if 80 > score >= 60:\r\n",
        "  print('不錯喔!')\r\n",
        "if score < 60:\r\n",
        "  print('要加油!')"
      ],
      "execution_count": 64,
      "outputs": [
        {
          "output_type": "stream",
          "text": [
            "enter your score 89\n",
            "非常好!\n"
          ],
          "name": "stdout"
        }
      ]
    },
    {
      "cell_type": "code",
      "metadata": {
        "colab": {
          "base_uri": "https://localhost:8080/"
        },
        "id": "W2Af6kb3FsUt",
        "outputId": "0d34eaa3-d5f4-4f76-d7c7-6cae8dff7f24"
      },
      "source": [
        "score = int(input('enter your score '))\r\n",
        "if score >= 80:\r\n",
        "  print('非常好!')\r\n",
        "elif score >= 60:\r\n",
        "  print('不錯喔!')\r\n",
        "else:\r\n",
        "  print('要加油!')"
      ],
      "execution_count": 65,
      "outputs": [
        {
          "output_type": "stream",
          "text": [
            "enter your score 79\n",
            "不錯喔!\n"
          ],
          "name": "stdout"
        }
      ]
    },
    {
      "cell_type": "code",
      "metadata": {
        "colab": {
          "base_uri": "https://localhost:8080/"
        },
        "id": "DA2v1X8pGTDd",
        "outputId": "43da8a9e-168b-4462-fe0b-4aa291d88cc9"
      },
      "source": [
        "score = int(input('enter your score '))\r\n",
        "if score >= 80:\r\n",
        "  print('非常好!')\r\n",
        "else:\r\n",
        "  if score >= 60:\r\n",
        "    print('不錯喔!')\r\n",
        "  else:\r\n",
        "    print('要加油!')"
      ],
      "execution_count": 66,
      "outputs": [
        {
          "output_type": "stream",
          "text": [
            "enter your score 59\n",
            "要加油!\n"
          ],
          "name": "stdout"
        }
      ]
    },
    {
      "cell_type": "code",
      "metadata": {
        "colab": {
          "base_uri": "https://localhost:8080/"
        },
        "id": "ku7TdWRT4WEs",
        "outputId": "85971dba-9ea3-46f4-f752-c6e04a8656d5"
      },
      "source": [
        "cher_dress_color = \"pink\"\r\n",
        "cher_shoe_color = \"whilte\"\r\n",
        "cher_has_earrings = True\r\n",
        "dionne_dress_color = \"purple\"\r\n",
        "dionne_shoe_color = \"pink\"\r\n",
        "dionne_has_earrings = True\r\n",
        "\r\n",
        "print(f'At least one person is wearing purple. {cher_dress_color == \"purple\" or dionne_dress_color == \"purple\"}')\r\n",
        "print(f'Cher and Dionne have different dress colors. {cher_dress_color != \"purple\" and dionne_dress_color != \"pink\"}')\r\n",
        "print(f'Cher and Dionne are both earing earrings. {cher_has_earrings == True and dionne_has_earrings == True}')\r\n",
        "print(f'At least one person is wearing pink. {cher_dress_color == \"pink\" or dionne_dress_color == \"purple\"}')\r\n",
        "print(f'No one is wearing green. {cher_dress_color != \"green\" and dionne_dress_color != \"green\"}')\r\n",
        "print(f'Cher and Dionne have the same shoe color. {(cher_shoe_color == \"white\" and dionne_shoe_color == \"white\")or(cher_shoe_color == \"pink\" and dionne_shoe_color == \"pink\")}')"
      ],
      "execution_count": 67,
      "outputs": [
        {
          "output_type": "stream",
          "text": [
            "At least one person is wearing purple. True\n",
            "Cher and Dionne have different dress colors. True\n",
            "Cher and Dionne are both earing earrings. True\n",
            "At least one person is wearing pink. True\n",
            "No one is wearing green. True\n",
            "Cher and Dionne have the same shoe color. False\n"
          ],
          "name": "stdout"
        }
      ]
    }
  ]
}