{
  "nbformat": 4,
  "nbformat_minor": 0,
  "metadata": {
    "colab": {
      "name": "簡佑竹Week16-2.ipynb",
      "provenance": [],
      "authorship_tag": "ABX9TyMFrRJQsBipAgAsQsi7WR39",
      "include_colab_link": true
    },
    "kernelspec": {
      "name": "python3",
      "display_name": "Python 3"
    }
  },
  "cells": [
    {
      "cell_type": "markdown",
      "metadata": {
        "id": "view-in-github",
        "colab_type": "text"
      },
      "source": [
        "<a href=\"https://colab.research.google.com/github/austin0107/Coputational-Thinking/blob/master/%E7%B0%A1%E4%BD%91%E7%AB%B9Week16-2.ipynb\" target=\"_parent\"><img src=\"https://colab.research.google.com/assets/colab-badge.svg\" alt=\"Open In Colab\"/></a>"
      ]
    },
    {
      "cell_type": "code",
      "metadata": {
        "colab": {
          "base_uri": "https://localhost:8080/"
        },
        "id": "zT6D1GAuDEBW",
        "outputId": "47deefc3-6005-4756-ce99-6475fef1f214"
      },
      "source": [
        "year = int(input('enter a year '))\r\n",
        "if year % 400 == 0:\r\n",
        "  print(year,'是閏年')\r\n",
        "elif year % 100 == 0:\r\n",
        "  print(year,'不是閏年')\r\n",
        "elif year % 4 == 0:\r\n",
        "  print(year,'是閏年')  \r\n",
        "else:\r\n",
        "  print(year,'不是閏年')"
      ],
      "execution_count": 56,
      "outputs": [
        {
          "output_type": "stream",
          "text": [
            "enter a year 2020\n",
            "2020 是閏年\n"
          ],
          "name": "stdout"
        }
      ]
    },
    {
      "cell_type": "code",
      "metadata": {
        "colab": {
          "base_uri": "https://localhost:8080/"
        },
        "id": "U8QQl9XtsT2L",
        "outputId": "c9dc52be-f39d-421b-cd5c-f5756b356c21"
      },
      "source": [
        "score = int(input('enter your score '))\r\n",
        "if score >= 80:\r\n",
        "  print('非常好!')\r\n",
        "if 80 > score >= 60:\r\n",
        "  print('不錯喔!')\r\n",
        "if score < 60:\r\n",
        "  print('要加油!')"
      ],
      "execution_count": 57,
      "outputs": [
        {
          "output_type": "stream",
          "text": [
            "enter your score 89\n",
            "非常好!\n"
          ],
          "name": "stdout"
        }
      ]
    },
    {
      "cell_type": "code",
      "metadata": {
        "colab": {
          "base_uri": "https://localhost:8080/"
        },
        "id": "W2Af6kb3FsUt",
        "outputId": "fada8ad2-cfe7-4c95-ee6a-11a4dc772eb9"
      },
      "source": [
        "score = int(input('enter your score '))\r\n",
        "if score >= 80:\r\n",
        "  print('非常好!')\r\n",
        "elif score >= 60:\r\n",
        "  print('不錯喔!')\r\n",
        "else:\r\n",
        "  print('要加油!')"
      ],
      "execution_count": 58,
      "outputs": [
        {
          "output_type": "stream",
          "text": [
            "enter your score 79\n",
            "不錯喔!\n"
          ],
          "name": "stdout"
        }
      ]
    },
    {
      "cell_type": "code",
      "metadata": {
        "colab": {
          "base_uri": "https://localhost:8080/"
        },
        "id": "DA2v1X8pGTDd",
        "outputId": "8ee5c3a1-ed98-4fa3-c245-ebb61c35f4cf"
      },
      "source": [
        "score = int(input('enter your score '))\r\n",
        "if score >= 80:\r\n",
        "  print('非常好!')\r\n",
        "else:\r\n",
        "  if score >= 60:\r\n",
        "    print('不錯喔!')\r\n",
        "  else:\r\n",
        "    print('要加油!')"
      ],
      "execution_count": 59,
      "outputs": [
        {
          "output_type": "stream",
          "text": [
            "enter your score 59\n",
            "要加油!\n"
          ],
          "name": "stdout"
        }
      ]
    },
    {
      "cell_type": "code",
      "metadata": {
        "colab": {
          "base_uri": "https://localhost:8080/"
        },
        "id": "ku7TdWRT4WEs",
        "outputId": "5b6211ef-f614-4831-965b-063f1c8449fe"
      },
      "source": [
        "cher_dress_color = \"pink\"\r\n",
        "cher_shoe_color = \"whilte\"\r\n",
        "cher_has_earrings = True\r\n",
        "dionne_dress_color = \"purple\"\r\n",
        "dionne_shoe_color = \"pink\"\r\n",
        "dionne_has_earrings = True\r\n",
        "\r\n",
        "print(f'At least one person is wearing purple? {cher_dress_color == \"purple\" or dionne_dress_color == \"purple\"}')\r\n",
        "print(f'Cher and Dionne have different dress colors. {cher_dress_color != \"purple\" and dionne_dress_color != \"pink\"}')\r\n",
        "print(f'Cher and Dionne are both earing earrings. {cher_has_earrings == True and dionne_has_earrings == True}')\r\n",
        "print(f'At least one person is wearing pink. {cher_dress_color == \"pink\" or dionne_dress_color == \"purple\"}')\r\n",
        "print(f'No one is wearing green. {cher_dress_color != \"green\" and dionne_dress_color != \"green\"}')\r\n",
        "print(f'Cher and Dionne have the same shoe color. {(cher_shoe_color == \"white\" and dionne_shoe_color == \"white\")or(cher_shoe_color == \"pink\" and dionne_shoe_color == \"pink\")}')"
      ],
      "execution_count": 60,
      "outputs": [
        {
          "output_type": "stream",
          "text": [
            "At least one person is wearing purple? True\n",
            "Cher and Dionne have different dress colors. True\n",
            "Cher and Dionne are both earing earrings. True\n",
            "At least one person is wearing pink. True\n",
            "No one is wearing green. True\n",
            "Cher and Dionne have the same shoe color. False\n"
          ],
          "name": "stdout"
        }
      ]
    }
  ]
}