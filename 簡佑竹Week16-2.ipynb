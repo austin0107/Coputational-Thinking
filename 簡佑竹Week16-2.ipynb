{
  "nbformat": 4,
  "nbformat_minor": 0,
  "metadata": {
    "colab": {
      "name": "簡佑竹Week16-1.ipynb",
      "provenance": [],
      "authorship_tag": "ABX9TyMkoXWOthsRb3RzaXD+iz71",
      "include_colab_link": true
    },
    "kernelspec": {
      "name": "python3",
      "display_name": "Python 3"
    }
  },
  "cells": [
    {
      "cell_type": "markdown",
      "metadata": {
        "id": "view-in-github",
        "colab_type": "text"
      },
      "source": [
        "<a href=\"https://colab.research.google.com/github/austin0107/Coputational-Thinking/blob/master/%E7%B0%A1%E4%BD%91%E7%AB%B9Week16-2.ipynb\" target=\"_parent\"><img src=\"https://colab.research.google.com/assets/colab-badge.svg\" alt=\"Open In Colab\"/></a>"
      ]
    },
    {
      "cell_type": "code",
      "metadata": {
        "colab": {
          "base_uri": "https://localhost:8080/"
        },
        "id": "8zmfe_mHmHzQ",
        "outputId": "d51d6c0d-06bb-4b45-ca40-0c643022c31f"
      },
      "source": [
        "True"
      ],
      "execution_count": 1,
      "outputs": [
        {
          "output_type": "execute_result",
          "data": {
            "text/plain": [
              "True"
            ]
          },
          "metadata": {
            "tags": []
          },
          "execution_count": 1
        }
      ]
    },
    {
      "cell_type": "markdown",
      "metadata": {
        "id": "5iKMaZZHzWQ8"
      },
      "source": [
        "# 巢狀條件氏\r\n"
      ]
    },
    {
      "cell_type": "code",
      "metadata": {
        "colab": {
          "base_uri": "https://localhost:8080/"
        },
        "id": "cH26FwqqzWkB",
        "outputId": "682d1da6-2956-4671-c1d8-6fe9f0495c6e"
      },
      "source": [
        "num_a = int(input(\"enter a number\"))\r\n",
        "num_b = int(input(\"enter a number\"))\r\n",
        "\r\n",
        "if num_a < 0:\r\n",
        "  print(\"第一個是負數\")\r\n",
        "  if num_b < 0:\r\n",
        "    print(\"第二個也是負數\")\r\n",
        "print(\"結束\")"
      ],
      "execution_count": 4,
      "outputs": [
        {
          "output_type": "stream",
          "text": [
            "enter a number-1\n",
            "enter a number-2\n",
            "第一個是負數\n",
            "第二個也是負數\n",
            "結束\n"
          ],
          "name": "stdout"
        }
      ]
    },
    {
      "cell_type": "markdown",
      "metadata": {
        "id": "56mQgzk72vUB"
      },
      "source": [
        "#非巢狀結構氏"
      ]
    },
    {
      "cell_type": "code",
      "metadata": {
        "colab": {
          "base_uri": "https://localhost:8080/"
        },
        "id": "ISu4jlJF2Ivn",
        "outputId": "a33e1554-abb5-4344-db0f-9713bbb1b921"
      },
      "source": [
        "num_a = int(input(\"enter a number\"))\r\n",
        "num_b = int(input(\"enter a number\"))\r\n",
        "\r\n",
        "if num_a < 0:\r\n",
        "  print(\"第一個是負數\")\r\n",
        "if num_b < 0:\r\n",
        "  print(\"第二個是負數\")\r\n",
        "print(\"結束\")"
      ],
      "execution_count": 6,
      "outputs": [
        {
          "output_type": "stream",
          "text": [
            "enter a number2\n",
            "enter a number2\n",
            "結束\n"
          ],
          "name": "stdout"
        }
      ]
    },
    {
      "cell_type": "markdown",
      "metadata": {
        "id": "5jeOOR2u3rBG"
      },
      "source": [
        "#雙向結構氏"
      ]
    },
    {
      "cell_type": "code",
      "metadata": {
        "colab": {
          "base_uri": "https://localhost:8080/"
        },
        "id": "HxXQG3av2etg",
        "outputId": "e8e94311-0c36-4c1e-c40d-61da92848fe7"
      },
      "source": [
        "score = int(input('enter a number'))\r\n",
        "if score >= 70:\r\n",
        "    print('good')\r\n",
        "else :\r\n",
        "    print('try again')"
      ],
      "execution_count": 7,
      "outputs": [
        {
          "output_type": "stream",
          "text": [
            "enter a number70\n",
            "good\n"
          ],
          "name": "stdout"
        }
      ]
    },
    {
      "cell_type": "code",
      "metadata": {
        "colab": {
          "base_uri": "https://localhost:8080/"
        },
        "id": "YW8c9uB03yeb",
        "outputId": "29fb4539-4fb3-44ed-97c2-1e01a9ce016f"
      },
      "source": [
        "num = int(input('enter a number'))\r\n",
        "if num % 2 == 0:      # % 為餘數除法\r\n",
        "  print(num, 'is 偶數')\r\n",
        "else:\r\n",
        "  print(num, 'is 奇數')"
      ],
      "execution_count": 10,
      "outputs": [
        {
          "output_type": "stream",
          "text": [
            "enter a number54684\n",
            "54684 is 偶數\n"
          ],
          "name": "stdout"
        }
      ]
    },
    {
      "cell_type": "code",
      "metadata": {
        "colab": {
          "base_uri": "https://localhost:8080/"
        },
        "id": "afflHa4h4wJB",
        "outputId": "97424a0c-021d-46e4-aafb-af07c8b4e395"
      },
      "source": [
        "a = int(input('enter a length'))\r\n",
        "b = int(input('enter a length'))\r\n",
        "c = int(input('enter a length'))\r\n",
        "if (a + b > c) and (a + c > b) and (b + c > a):\r\n",
        "  print('It can be a triangle.')\r\n",
        "else:\r\n",
        "  print('It can not be a triangle.')"
      ],
      "execution_count": 14,
      "outputs": [
        {
          "output_type": "stream",
          "text": [
            "enter a length10\n",
            "enter a length5\n",
            "enter a length2\n",
            "It can not be a triangle.\n"
          ],
          "name": "stdout"
        }
      ]
    }
  ]
}