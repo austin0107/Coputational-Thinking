{
  "nbformat": 4,
  "nbformat_minor": 0,
  "metadata": {
    "colab": {
      "name": "簡佑竹Week13-2.ipynb",
      "provenance": [],
      "authorship_tag": "ABX9TyMGl2sedqvw+2vooA+M6tJr",
      "include_colab_link": true
    },
    "kernelspec": {
      "name": "python3",
      "display_name": "Python 3"
    }
  },
  "cells": [
    {
      "cell_type": "markdown",
      "metadata": {
        "id": "view-in-github",
        "colab_type": "text"
      },
      "source": [
        "<a href=\"https://colab.research.google.com/github/austin0107/Coputational-Thinking/blob/master/%E7%B0%A1%E4%BD%91%E7%AB%B9Week13-2.ipynb\" target=\"_parent\"><img src=\"https://colab.research.google.com/assets/colab-badge.svg\" alt=\"Open In Colab\"/></a>"
      ]
    },
    {
      "cell_type": "code",
      "metadata": {
        "colab": {
          "base_uri": "https://localhost:8080/"
        },
        "id": "_tD9OF0QC0Gc",
        "outputId": "752f85a8-a436-4bba-fe25-0ba8efb08ed9"
      },
      "source": [
        "# for迴圈示範碼\n",
        "## 方法(一) : for迴圈 + range()函數\n",
        "for i in range(0, 5):\n",
        "  print(i)\n",
        "## 方法(二) : for迴圈 + 資料容器(數字串列)\n",
        "for i in [0,1,2,3,4]:\n",
        "  print(i)"
      ],
      "execution_count": 60,
      "outputs": [
        {
          "output_type": "stream",
          "text": [
            "0\n",
            "1\n",
            "2\n",
            "3\n",
            "4\n",
            "0\n",
            "1\n",
            "2\n",
            "3\n",
            "4\n"
          ],
          "name": "stdout"
        }
      ]
    },
    {
      "cell_type": "code",
      "metadata": {
        "colab": {
          "base_uri": "https://localhost:8080/"
        },
        "id": "3QvBTpKJDmHZ",
        "outputId": "48a45fac-555a-45d9-bdf6-9355fe70dc84"
      },
      "source": [
        "## 1. 文字資料的例子\n",
        "cars = ['Toyota', 'Honda']\n",
        " #把cars清單中的東西一個一個拿出來\n",
        "for i in cars: #每次拿出來的東西暫時叫它i\n",
        "  print(i) #清單中的每個東西都拿完就結束"
      ],
      "execution_count": 61,
      "outputs": [
        {
          "output_type": "stream",
          "text": [
            "Toyota\n",
            "Honda\n"
          ],
          "name": "stdout"
        }
      ]
    },
    {
      "cell_type": "code",
      "metadata": {
        "colab": {
          "base_uri": "https://localhost:8080/"
        },
        "id": "UkljcES4HVKh",
        "outputId": "0a8dbad1-458f-449e-fecb-aa152eb1929f"
      },
      "source": [
        "## 2. 英文串列的例子\n",
        "names = ['Austin', 'Bryant', 'James', 'Jordan'] \n",
        "##計數迴圈:把names串列中的東西一個一個拿出來\n",
        "for i in names: #每次拿出來的東西暫時叫它i\n",
        "  print('Welcome to Class!', i) #清單中的每個東西都拿完就結束"
      ],
      "execution_count": 62,
      "outputs": [
        {
          "output_type": "stream",
          "text": [
            "Welcome to Class! Austin\n",
            "Welcome to Class! Bryant\n",
            "Welcome to Class! James\n",
            "Welcome to Class! Jordan\n"
          ],
          "name": "stdout"
        }
      ]
    },
    {
      "cell_type": "code",
      "metadata": {
        "colab": {
          "base_uri": "https://localhost:8080/"
        },
        "id": "YS-8VGMdKmdQ",
        "outputId": "f60d8459-64ca-4730-8941-dc26d82a3ea4"
      },
      "source": [
        "## 3. 中文串列的例子\n",
        "sheet = ['起司', '牛奶', '義大利麵', '披薩']\n",
        "for i in range(0, len(sheet)): #位置索引從0開始[0,1,2]\n",
        "  print(i, sheet[i]) #i是索引值，sheet[i]才是項目"
      ],
      "execution_count": 63,
      "outputs": [
        {
          "output_type": "stream",
          "text": [
            "0 起司\n",
            "1 牛奶\n",
            "2 義大利麵\n",
            "3 披薩\n"
          ],
          "name": "stdout"
        }
      ]
    },
    {
      "cell_type": "code",
      "metadata": {
        "colab": {
          "base_uri": "https://localhost:8080/"
        },
        "id": "58ppKYMSNrGB",
        "outputId": "4bff5887-e15d-40f8-909d-750f2f713056"
      },
      "source": [
        "## 4. 數字資料的例子\n",
        "numbers = [117, 177, 777]\n",
        "for i in numbers:\n",
        "  print(i) #印拿出來的東西\n",
        "for i in range(0, len(numbers)):\n",
        "  print(i, numbers[i]) #索引和項目"
      ],
      "execution_count": 64,
      "outputs": [
        {
          "output_type": "stream",
          "text": [
            "117\n",
            "177\n",
            "777\n",
            "0 117\n",
            "1 177\n",
            "2 777\n"
          ],
          "name": "stdout"
        }
      ]
    },
    {
      "cell_type": "code",
      "metadata": {
        "colab": {
          "base_uri": "https://localhost:8080/"
        },
        "id": "HftSQ4aHOnSo",
        "outputId": "587d9402-208a-4f30-e128-be9fd0e9c03d"
      },
      "source": [
        "# 作業 ###未完成\n",
        "people = [\"Mario\", \"Peach\", \"Luigi\", \"Toad\", \"Yoshi\"]\n",
        "dessert = [\"Star Pudding\", \"Peach Pie\", \"Popsicles\", \"Honey Cake\", \"Cookies\", \"Jelly Beans\"]\n",
        "for i in people:\n",
        "  print('Hi,my name is', i, '.')\n",
        "for j in dessert:\n",
        "  print('My favorite dessert is', j, '.')"
      ],
      "execution_count": 93,
      "outputs": [
        {
          "output_type": "stream",
          "text": [
            "Hi,my name is Mario .\n",
            "Hi,my name is Peach .\n",
            "Hi,my name is Luigi .\n",
            "Hi,my name is Toad .\n",
            "Hi,my name is Yoshi .\n",
            "My favorite dessert is Star Pudding .\n",
            "My favorite dessert is Peach Pie .\n",
            "My favorite dessert is Popsicles .\n",
            "My favorite dessert is Honey Cake .\n",
            "My favorite dessert is Cookies .\n",
            "My favorite dessert is Jelly Beans .\n"
          ],
          "name": "stdout"
        }
      ]
    },
    {
      "cell_type": "code",
      "metadata": {
        "colab": {
          "base_uri": "https://localhost:8080/"
        },
        "id": "Z9eWE7CkYAoj",
        "outputId": "23a79c62-0c66-4777-88ae-49e160e6bed0"
      },
      "source": [
        "# 雙迴圈，for巢狀迴圈\n",
        "for i in range(1,10): #控制輸出多少行\n",
        "  for j in range(1,10): #每行輸出多少個\n",
        "  #依序將「變數i* 變數j = 變數i 與j 相乘結果」顯示在螢幕\n",
        "  #串接tab，設定sep與end為空字串\n",
        "    print(i, '*', j, '=', i*j, '\\t', sep='', end='')\n",
        "  print() #每行輸出後換行"
      ],
      "execution_count": 98,
      "outputs": [
        {
          "output_type": "stream",
          "text": [
            "1*1=1\t1*2=2\t1*3=3\t1*4=4\t1*5=5\t1*6=6\t1*7=7\t1*8=8\t1*9=9\t\n",
            "2*1=2\t2*2=4\t2*3=6\t2*4=8\t2*5=10\t2*6=12\t2*7=14\t2*8=16\t2*9=18\t\n",
            "3*1=3\t3*2=6\t3*3=9\t3*4=12\t3*5=15\t3*6=18\t3*7=21\t3*8=24\t3*9=27\t\n",
            "4*1=4\t4*2=8\t4*3=12\t4*4=16\t4*5=20\t4*6=24\t4*7=28\t4*8=32\t4*9=36\t\n",
            "5*1=5\t5*2=10\t5*3=15\t5*4=20\t5*5=25\t5*6=30\t5*7=35\t5*8=40\t5*9=45\t\n",
            "6*1=6\t6*2=12\t6*3=18\t6*4=24\t6*5=30\t6*6=36\t6*7=42\t6*8=48\t6*9=54\t\n",
            "7*1=7\t7*2=14\t7*3=21\t7*4=28\t7*5=35\t7*6=42\t7*7=49\t7*8=56\t7*9=63\t\n",
            "8*1=8\t8*2=16\t8*3=24\t8*4=32\t8*5=40\t8*6=48\t8*7=56\t8*8=64\t8*9=72\t\n",
            "9*1=9\t9*2=18\t9*3=27\t9*4=36\t9*5=45\t9*6=54\t9*7=63\t9*8=72\t9*9=81\t\n"
          ],
          "name": "stdout"
        }
      ]
    }
  ]
}