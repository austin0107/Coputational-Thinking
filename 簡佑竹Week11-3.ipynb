{
  "nbformat": 4,
  "nbformat_minor": 0,
  "metadata": {
    "colab": {
      "name": "chatbot.ipynb",
      "provenance": [],
      "authorship_tag": "ABX9TyNC0oc9Dh/r3MKVdt9PFedx",
      "include_colab_link": true
    },
    "kernelspec": {
      "name": "python3",
      "display_name": "Python 3"
    }
  },
  "cells": [
    {
      "cell_type": "markdown",
      "metadata": {
        "id": "view-in-github",
        "colab_type": "text"
      },
      "source": [
        "<a href=\"https://colab.research.google.com/github/austin0107/Coputational-Thinking/blob/master/%E7%B0%A1%E4%BD%91%E7%AB%B9Week11-3.ipynb\" target=\"_parent\"><img src=\"https://colab.research.google.com/assets/colab-badge.svg\" alt=\"Open In Colab\"/></a>"
      ]
    },
    {
      "cell_type": "code",
      "metadata": {
        "id": "isSPj8Hbsl7n",
        "outputId": "95e12d5b-aa25-45bb-ddb7-aaf27f537289",
        "colab": {
          "base_uri": "https://localhost:8080/"
        }
      },
      "source": [
        "# 聊天機器人自我介紹\n",
        "print(\"哈囉,大家好。我叫Zyxo64,是一個聊天機器人。\")\n",
        "hobby = \"我很喜歡美食東西,也喜歡養動物。今天很高興有機會來到世新大學,請大家多多指教。\"\n",
        "print( hobby )\n",
        "\n",
        "# 打招呼,取得對方名字\n",
        "name = input(\"嗨!妳好,請問大名?: \")\n",
        "print(\"我叫\", name)\n",
        "print(\"你好\", name, \"很高興認識你\")\n",
        "\n",
        "# 從使用者取得今年年份\n",
        "year = input(\"請問一下今年是西元2020年,那是民國幾年呢? \")\n",
        "print(\"對!應該沒錯,謝謝妳!\")\n",
        "\n",
        "# 請使用者猜年齡\n",
        "myage = int(input(\"再猜猜看我今年幾歲? \"))\n",
        "print(\"哇!你好聰明,我今年的確\", myage)\n",
        "\n",
        "# 計算聊天機器人滿100歲的年份\n",
        "nyears = 100 - myage\n",
        "print(\"我再\", nyears, \"年就滿100歲了。\")\n",
        "print(\"到時候是西元\", int(year) + nyears + 1911, \"年\") # 將今年年份轉換為整數\n",
        "\n",
        "# 食物話題\n",
        "print(\"我喜歡巧克力,也喜歡嘗試各種新食物。\")\n",
        "food = input(\"你呢。你最喜歡的食物是什麼?: \")\n",
        "print(\"我也喜歡\", food)\n",
        "question = \"你多久吃一次\" + food + \"?: \"\n",
        "howoften = input(question)\n",
        "print(\"真有趣。不知道這樣對健康好不好?\")\n",
        "\n",
        "# 動物話題\n",
        "animal = input(\"我最喜歡的動物是長頸鹿。你呢?; \")\n",
        "print(\"我不喜歡\", animal)\n",
        "print(\"不知道\", animal, \"喜不喜歡吃\", food, \"?\")\n",
        "\n",
        "# 關於心情的對話\n",
        "feeling = input(\"你今天心情如何?; \")\n",
        "print(\"告訴我你現在\", feeling, \"的原因。 \")\n",
        "reason = input(\"為什麼: \")\n",
        "print(\"我知道了。謝謝分享。\")\n",
        "\n",
        "# 道別\n",
        "print(\"今天事情真多!我累了,下次再聊。\")\n",
        "print(\"再見\", name, \"我喜歡跟你聊天!\")"
      ],
      "execution_count": 5,
      "outputs": [
        {
          "output_type": "stream",
          "text": [
            "哈囉,大家好。我叫Zyxo64,是一個聊天機器人。\n",
            "我很喜歡美食東西,也喜歡養動物。今天很高興有機會來到世新大學,請大家多多指教。\n",
            "嗨!妳好,請問大名?: Austin\n",
            "我叫 Austin\n",
            "你好 Austin 很高興認識你\n",
            "請問一下今年是西元2020年,那是民國幾年呢? 109\n",
            "對!應該沒錯,謝謝妳!\n",
            "再猜猜看我今年幾歲? 20\n",
            "哇!你好聰明,我今年的確 20\n",
            "我再 80 年就滿100歲了。\n",
            "到時候是西元 2100 年\n",
            "我喜歡巧克力,也喜歡嘗試各種新食物。\n",
            "你呢。你最喜歡的食物是什麼?: pasta\n",
            "我也喜歡 pasta\n",
            "你多久吃一次pasta?: everyday\n",
            "真有趣。不知道這樣對健康好不好?\n",
            "我最喜歡的動物是長頸鹿。你呢?; dog\n",
            "我不喜歡 dog\n",
            "不知道 dog 喜不喜歡吃 pasta ?\n",
            "你今天心情如何?; happy\n",
            "告訴我你現在 happy 的原因。 \n",
            "為什麼: weeekend\n",
            "我知道了。謝謝分享。\n",
            "今天事情真多!我累了,下次再聊。\n",
            "再見 Austin 我喜歡跟你聊天!\n"
          ],
          "name": "stdout"
        }
      ]
    }
  ]
}