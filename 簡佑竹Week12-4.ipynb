{
  "nbformat": 4,
  "nbformat_minor": 0,
  "metadata": {
    "colab": {
      "name": "簡佑竹Week12-4.ipynb",
      "provenance": [],
      "authorship_tag": "ABX9TyOLEhle1Xz7GN3blD7o3BjP",
      "include_colab_link": true
    },
    "kernelspec": {
      "name": "python3",
      "display_name": "Python 3"
    }
  },
  "cells": [
    {
      "cell_type": "markdown",
      "metadata": {
        "id": "view-in-github",
        "colab_type": "text"
      },
      "source": [
        "<a href=\"https://colab.research.google.com/github/austin0107/Coputational-Thinking/blob/master/%E7%B0%A1%E4%BD%91%E7%AB%B9Week12-4.ipynb\" target=\"_parent\"><img src=\"https://colab.research.google.com/assets/colab-badge.svg\" alt=\"Open In Colab\"/></a>"
      ]
    },
    {
      "cell_type": "code",
      "metadata": {
        "colab": {
          "base_uri": "https://localhost:8080/"
        },
        "id": "fdZGRtWoJX3q",
        "outputId": "e3b3aa91-1920-4117-c26f-8a4030d8c0f2"
      },
      "source": [
        "project_title = 'chatbox'\n",
        "name_list = ['呂昕靜', '林秉睿', '田智翔', '黃珮筑', '簡佑竹', '蔡宜玲', '王多樂', '王柏智']\n",
        "number_list = ['A109260007', 'A109260017', 'A109260033', 'A109260043', 'A109260057', 'A109260071', 'A109260079', 'A109260099'] \n",
        "duty_list = ['聊天機器人自我介紹', '設計者組別介紹', '與使用者打招呼', '興趣介紹', '歷史話題', '食物話題', '心情話題', '聊天感想與道別']\n",
        "load_list = ['12%', '13%', '12%', '13%', '12%', '13%', '13%', '12%']\n",
        "\n",
        "name = name_list[2]\n",
        "school_number = number_list[2]\n",
        "duty = duty_list[2]\n",
        "load = load_list[2]\n",
        "\n",
        "team_leader = list((name, school_number, duty, load))\n",
        "\n",
        "print('組長為', team_leader[0:4])"
      ],
      "execution_count": 8,
      "outputs": [
        {
          "output_type": "stream",
          "text": [
            "組長為 ['田智翔', 'A109260033', '與使用者打招呼', '12%']\n"
          ],
          "name": "stdout"
        }
      ]
    }
  ]
}