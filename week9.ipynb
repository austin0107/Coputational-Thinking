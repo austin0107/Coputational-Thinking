{
  "nbformat": 4,
  "nbformat_minor": 0,
  "metadata": {
    "colab": {
      "name": "week9.ipynb",
      "provenance": [],
      "authorship_tag": "ABX9TyON/i/iM2iEt9shFWmggyuO",
      "include_colab_link": true
    },
    "kernelspec": {
      "name": "python3",
      "display_name": "Python 3"
    }
  },
  "cells": [
    {
      "cell_type": "markdown",
      "metadata": {
        "id": "view-in-github",
        "colab_type": "text"
      },
      "source": [
        "<a href=\"https://colab.research.google.com/github/austin0107/Coputational-Thinking/blob/master/week9.ipynb\" target=\"_parent\"><img src=\"https://colab.research.google.com/assets/colab-badge.svg\" alt=\"Open In Colab\"/></a>"
      ]
    },
    {
      "cell_type": "code",
      "metadata": {
        "id": "ADxoWb57J8es",
        "outputId": "dfcbb626-8c86-4c52-f073-ce4f3f98ecea",
        "colab": {
          "base_uri": "https://localhost:8080/"
        }
      },
      "source": [
        "seat_number = int(input('Enter your seat number'))\n",
        "import math\n",
        "group = math.ceil(seat_number/5) \n",
        "print('group',group)"
      ],
      "execution_count": 2,
      "outputs": [
        {
          "output_type": "stream",
          "text": [
            "Enter your seat number 19\n",
            "group 4\n"
          ],
          "name": "stdout"
        }
      ]
    }
  ]
}