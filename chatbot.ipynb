{
  "nbformat": 4,
  "nbformat_minor": 0,
  "metadata": {
    "colab": {
      "name": "chatbot.ipynb",
      "provenance": [],
      "authorship_tag": "ABX9TyOtQdOTc9WIDoPRy5bstReY",
      "include_colab_link": true
    },
    "kernelspec": {
      "name": "python3",
      "display_name": "Python 3"
    }
  },
  "cells": [
    {
      "cell_type": "markdown",
      "metadata": {
        "id": "view-in-github",
        "colab_type": "text"
      },
      "source": [
        "<a href=\"https://colab.research.google.com/github/austin0107/Coputational-Thinking/blob/master/chatbot.ipynb\" target=\"_parent\"><img src=\"https://colab.research.google.com/assets/colab-badge.svg\" alt=\"Open In Colab\"/></a>"
      ]
    },
    {
      "cell_type": "code",
      "metadata": {
        "colab": {
          "base_uri": "https://localhost:8080/"
        },
        "id": "5Y9BxaEkgTeG",
        "outputId": "948a4cbd-d174-48b8-fce6-05b1d7181015"
      },
      "source": [
        "# chatbot introduction\n",
        "print('Hello. I am Zyxo 64. I am a chatbot.')\n",
        "print('I love to play basketball and listen edm.')\n",
        "name = input('Enter your name ')\n",
        "print('Hello', name,'. Nice to meet you.')\n",
        "\n",
        "# get year information\n",
        "year = input('I am not very good at dates. What is the year?: ')\n",
        "print('Yes, I think that is correct. Thanks! ')\n",
        "\n",
        "# ask user to guess age\n",
        "my_age = input('Can you guess my age? - enter a number: ')\n",
        "print('Yes, you are right. I am', my_age, 'years old.')\n",
        "\n",
        "# do math to calculate when chatbot will be 100\n",
        "my_age = int(my_age)\n",
        "nyears = 100 - my_age\n",
        "print('I will be 100 in ', nyears,'years ')\n",
        "print('That will be the year', int(year) + nyears)"
      ],
      "execution_count": null,
      "outputs": [
        {
          "output_type": "stream",
          "text": [
            "Hello. I am Zyxo 64. I am a chatbot.\n",
            "I love to play basketball and listen edm.\n",
            "Enter your name Austin\n",
            "Hello Austin . Nice to meet you.\n",
            "I am not very good at dates. What is the year?: 2020\n",
            "Yes, I think that is correct. Thanks! \n",
            "Can you guess my age? - enter a number: 20\n",
            "Yes, you are right. I am 20 years old.\n",
            "I will be 100 in  80 years \n",
            "That will be the year 2100\n"
          ],
          "name": "stdout"
        }
      ]
    },
    {
      "cell_type": "code",
      "metadata": {
        "id": "u7rVwf-11XUb"
      },
      "source": [
        "# food conversation\n",
        "print('I love pasta and I also like')"
      ],
      "execution_count": null,
      "outputs": []
    }
  ]
}