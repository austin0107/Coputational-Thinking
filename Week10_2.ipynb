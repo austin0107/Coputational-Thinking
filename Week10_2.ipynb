{
  "nbformat": 4,
  "nbformat_minor": 0,
  "metadata": {
    "colab": {
      "name": "Week10-2.ipynb",
      "provenance": [],
      "authorship_tag": "ABX9TyNOaW5z/6dlBxRqhvvqHO2+",
      "include_colab_link": true
    },
    "kernelspec": {
      "name": "python3",
      "display_name": "Python 3"
    }
  },
  "cells": [
    {
      "cell_type": "markdown",
      "metadata": {
        "id": "view-in-github",
        "colab_type": "text"
      },
      "source": [
        "<a href=\"https://colab.research.google.com/github/austin0107/Coputational-Thinking/blob/master/Week10_2.ipynb\" target=\"_parent\"><img src=\"https://colab.research.google.com/assets/colab-badge.svg\" alt=\"Open In Colab\"/></a>"
      ]
    },
    {
      "cell_type": "code",
      "metadata": {
        "colab": {
          "base_uri": "https://localhost:8080/"
        },
        "id": "GYw4psAmlq5X",
        "outputId": "65edcf93-641e-435a-da3d-4e42aeeaf9db"
      },
      "source": [
        "# Input Data\n",
        "time = 123\n",
        "\n",
        "# Process\n",
        "\n",
        "hour1 = (time // 60) #商數\n",
        "min1 = (time % 60) #餘數\n",
        "\n",
        "# Output\n",
        "print(time,'is',hour1,'hours',min1,'mins')\n",
        "\n",
        "## Process\n",
        "\n",
        "hour2 = int(time / 60) #除法與整數\n",
        "min2 = (time / 60 - hour2) * 60\n",
        "import math\n",
        "min2 = round(min2)\n",
        "print(time,'is',hour2,'hours',min2,'mins')"
      ],
      "execution_count": 6,
      "outputs": [
        {
          "output_type": "stream",
          "text": [
            "123 is 2 hours 3 mins\n",
            "123 is 2 hours 3 mins\n"
          ],
          "name": "stdout"
        }
      ]
    }
  ]
}