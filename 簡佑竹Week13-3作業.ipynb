{
  "nbformat": 4,
  "nbformat_minor": 0,
  "metadata": {
    "colab": {
      "name": "簡佑竹Week13-3作業.ipynb",
      "provenance": [],
      "authorship_tag": "ABX9TyOpveYTD8JENfN0Z8NOE2fz",
      "include_colab_link": true
    },
    "kernelspec": {
      "name": "python3",
      "display_name": "Python 3"
    }
  },
  "cells": [
    {
      "cell_type": "markdown",
      "metadata": {
        "id": "view-in-github",
        "colab_type": "text"
      },
      "source": [
        "<a href=\"https://colab.research.google.com/github/austin0107/Coputational-Thinking/blob/master/%E7%B0%A1%E4%BD%91%E7%AB%B9Week13-3%E4%BD%9C%E6%A5%AD.ipynb\" target=\"_parent\"><img src=\"https://colab.research.google.com/assets/colab-badge.svg\" alt=\"Open In Colab\"/></a>"
      ]
    },
    {
      "cell_type": "code",
      "metadata": {
        "id": "0rNjD27aP-kL",
        "colab": {
          "base_uri": "https://localhost:8080/"
        },
        "outputId": "35a3dfd4-6a42-4d1a-a164-33110ae6cc94"
      },
      "source": [
        "for i in range (1,6,1):\r\n",
        "  print('Hello')"
      ],
      "execution_count": null,
      "outputs": [
        {
          "output_type": "stream",
          "text": [
            "Hello\n",
            "Hello\n",
            "Hello\n",
            "Hello\n",
            "Hello\n"
          ],
          "name": "stdout"
        }
      ]
    },
    {
      "cell_type": "code",
      "metadata": {
        "colab": {
          "base_uri": "https://localhost:8080/"
        },
        "id": "OvJxqBVcsBPy",
        "outputId": "f213f608-6300-45a5-e493-9c2405161196"
      },
      "source": [
        "for i in range (100,89,-3):\r\n",
        "  print(i)"
      ],
      "execution_count": null,
      "outputs": [
        {
          "output_type": "stream",
          "text": [
            "100\n",
            "97\n",
            "94\n",
            "91\n"
          ],
          "name": "stdout"
        }
      ]
    },
    {
      "cell_type": "code",
      "metadata": {
        "id": "Pey6IqtBQJzJ",
        "colab": {
          "base_uri": "https://localhost:8080/"
        },
        "outputId": "ef8679da-3980-4a58-d3e9-affb6d7d68b9"
      },
      "source": [
        "sum = 0\r\n",
        "for i in range (3,13,3):\r\n",
        "  sum = sum + i\r\n",
        "print(sum)"
      ],
      "execution_count": null,
      "outputs": [
        {
          "output_type": "stream",
          "text": [
            "30\n"
          ],
          "name": "stdout"
        }
      ]
    },
    {
      "cell_type": "code",
      "metadata": {
        "colab": {
          "base_uri": "https://localhost:8080/"
        },
        "id": "YThomvHytCeW",
        "outputId": "3949cf7d-a0f6-43d5-9cfc-c6915275278c"
      },
      "source": [
        "start = int(input())\r\n",
        "end = int(input())\r\n",
        "step = int(input())\r\n",
        "for i in range (start,end,step):\r\n",
        "  print(i)"
      ],
      "execution_count": null,
      "outputs": [
        {
          "output_type": "stream",
          "text": [
            "100\n",
            "88\n",
            "-3\n",
            "100\n",
            "97\n",
            "94\n",
            "91\n"
          ],
          "name": "stdout"
        }
      ]
    },
    {
      "cell_type": "code",
      "metadata": {
        "colab": {
          "base_uri": "https://localhost:8080/"
        },
        "id": "C7b2XFC5tmet",
        "outputId": "00879357-8613-4fc9-dbf3-d78ed0614cc5"
      },
      "source": [
        "start = int(input())\r\n",
        "end = int(input())\r\n",
        "step = int(input())\r\n",
        "sum = 0\r\n",
        "for i in range (start,end,step):\r\n",
        "  sum = sum + i**2\r\n",
        "print(sum)"
      ],
      "execution_count": null,
      "outputs": [
        {
          "output_type": "stream",
          "text": [
            "1\n",
            "6\n",
            "1\n",
            "55\n"
          ],
          "name": "stdout"
        }
      ]
    },
    {
      "cell_type": "code",
      "metadata": {
        "colab": {
          "base_uri": "https://localhost:8080/"
        },
        "id": "buBCMcfCuhDf",
        "outputId": "a2dbc2fd-22ae-4101-e952-5312e08e4270"
      },
      "source": [
        "for i in range(1,10,1):\r\n",
        "  for j in range(1,10,1):\r\n",
        "    print(i, '*', j, '=', i*j)"
      ],
      "execution_count": null,
      "outputs": [
        {
          "output_type": "stream",
          "text": [
            "1 * 1 = 1\n",
            "1 * 2 = 2\n",
            "1 * 3 = 3\n",
            "1 * 4 = 4\n",
            "1 * 5 = 5\n",
            "1 * 6 = 6\n",
            "1 * 7 = 7\n",
            "1 * 8 = 8\n",
            "1 * 9 = 9\n",
            "2 * 1 = 2\n",
            "2 * 2 = 4\n",
            "2 * 3 = 6\n",
            "2 * 4 = 8\n",
            "2 * 5 = 10\n",
            "2 * 6 = 12\n",
            "2 * 7 = 14\n",
            "2 * 8 = 16\n",
            "2 * 9 = 18\n",
            "3 * 1 = 3\n",
            "3 * 2 = 6\n",
            "3 * 3 = 9\n",
            "3 * 4 = 12\n",
            "3 * 5 = 15\n",
            "3 * 6 = 18\n",
            "3 * 7 = 21\n",
            "3 * 8 = 24\n",
            "3 * 9 = 27\n",
            "4 * 1 = 4\n",
            "4 * 2 = 8\n",
            "4 * 3 = 12\n",
            "4 * 4 = 16\n",
            "4 * 5 = 20\n",
            "4 * 6 = 24\n",
            "4 * 7 = 28\n",
            "4 * 8 = 32\n",
            "4 * 9 = 36\n",
            "5 * 1 = 5\n",
            "5 * 2 = 10\n",
            "5 * 3 = 15\n",
            "5 * 4 = 20\n",
            "5 * 5 = 25\n",
            "5 * 6 = 30\n",
            "5 * 7 = 35\n",
            "5 * 8 = 40\n",
            "5 * 9 = 45\n",
            "6 * 1 = 6\n",
            "6 * 2 = 12\n",
            "6 * 3 = 18\n",
            "6 * 4 = 24\n",
            "6 * 5 = 30\n",
            "6 * 6 = 36\n",
            "6 * 7 = 42\n",
            "6 * 8 = 48\n",
            "6 * 9 = 54\n",
            "7 * 1 = 7\n",
            "7 * 2 = 14\n",
            "7 * 3 = 21\n",
            "7 * 4 = 28\n",
            "7 * 5 = 35\n",
            "7 * 6 = 42\n",
            "7 * 7 = 49\n",
            "7 * 8 = 56\n",
            "7 * 9 = 63\n",
            "8 * 1 = 8\n",
            "8 * 2 = 16\n",
            "8 * 3 = 24\n",
            "8 * 4 = 32\n",
            "8 * 5 = 40\n",
            "8 * 6 = 48\n",
            "8 * 7 = 56\n",
            "8 * 8 = 64\n",
            "8 * 9 = 72\n",
            "9 * 1 = 9\n",
            "9 * 2 = 18\n",
            "9 * 3 = 27\n",
            "9 * 4 = 36\n",
            "9 * 5 = 45\n",
            "9 * 6 = 54\n",
            "9 * 7 = 63\n",
            "9 * 8 = 72\n",
            "9 * 9 = 81\n"
          ],
          "name": "stdout"
        }
      ]
    },
    {
      "cell_type": "code",
      "metadata": {
        "id": "vVigbWEhyN17",
        "colab": {
          "base_uri": "https://localhost:8080/"
        },
        "outputId": "0ce1fd8f-fc75-475e-82b6-dfd3649b3344"
      },
      "source": [
        "people = [\"Mario\", \"Peach\", \"Luigi\", \"Daisy\", \"Toad\", \"Yoshi\"]\r\n",
        "desserts = [\"Star Pudding\", \"Peach Pie\", \"Popsicles\", \"Honey Cake\", \"Cookies\", \"Jelly Beans\"]\r\n",
        "for index in range(len(people)):\r\n",
        "  name = people[index]\r\n",
        "  dessert = desserts[index] \r\n",
        "  print(f'Hi,my name is', name, '.My favorite dessert is', dessert, '.')"
      ],
      "execution_count": 100,
      "outputs": [
        {
          "output_type": "stream",
          "text": [
            "Hi,my name is Mario .My favorite dessert is Star Pudding .\n",
            "Hi,my name is Peach .My favorite dessert is Peach Pie .\n",
            "Hi,my name is Luigi .My favorite dessert is Popsicles .\n",
            "Hi,my name is Daisy .My favorite dessert is Honey Cake .\n",
            "Hi,my name is Toad .My favorite dessert is Cookies .\n",
            "Hi,my name is Yoshi .My favorite dessert is Jelly Beans .\n"
          ],
          "name": "stdout"
        }
      ]
    },
    {
      "cell_type": "code",
      "metadata": {
        "id": "nLzcm_a7Dfea",
        "outputId": "832ad08d-699b-4d9a-bcc2-a57d1837e767",
        "colab": {
          "base_uri": "https://localhost:8080/"
        }
      },
      "source": [
        "sum = 0\r\n",
        "price = [100, 150, 120, 90, 145]\r\n",
        "for i in price:\r\n",
        "  sum = sum + i\r\n",
        "print('總金額為', sum)\r\n",
        "aver = sum / 5\r\n",
        "print('平均金額為', aver)"
      ],
      "execution_count": 101,
      "outputs": [
        {
          "output_type": "stream",
          "text": [
            "總金額為 605\n",
            "平均金額為 121.0\n"
          ],
          "name": "stdout"
        }
      ]
    },
    {
      "cell_type": "code",
      "metadata": {
        "id": "xYc4wrAVFf6j",
        "outputId": "33aa4eab-4d28-4149-8c3c-3c5d5d34d185",
        "colab": {
          "base_uri": "https://localhost:8080/"
        }
      },
      "source": [
        "sign = ['*', '**', '***', '****', '******']\r\n",
        "for i in sign:\r\n",
        "  print(i)"
      ],
      "execution_count": 99,
      "outputs": [
        {
          "output_type": "stream",
          "text": [
            "*\n",
            "**\n",
            "***\n",
            "****\n",
            "******\n"
          ],
          "name": "stdout"
        }
      ]
    },
    {
      "cell_type": "code",
      "metadata": {
        "id": "CY06UC09HPQM",
        "outputId": "b612eaa6-9f68-4d1d-dda0-8f3b46829366",
        "colab": {
          "base_uri": "https://localhost:8080/"
        }
      },
      "source": [
        "for i in range(5):\r\n",
        "  print(\" \"*(4-i),end=' ')\r\n",
        "  print(\"* \"*(2*i+1))"
      ],
      "execution_count": 98,
      "outputs": [
        {
          "output_type": "stream",
          "text": [
            "     * \n",
            "    * * * \n",
            "   * * * * * \n",
            "  * * * * * * * \n",
            " * * * * * * * * * \n"
          ],
          "name": "stdout"
        }
      ]
    }
  ]
}