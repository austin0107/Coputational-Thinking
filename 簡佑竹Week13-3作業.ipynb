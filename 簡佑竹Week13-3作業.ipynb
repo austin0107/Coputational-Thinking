{
  "nbformat": 4,
  "nbformat_minor": 0,
  "metadata": {
    "colab": {
      "name": "簡佑竹Week13-3作業.ipynb",
      "provenance": [],
      "authorship_tag": "ABX9TyODtmtYjvOdDio6WHrH551Y",
      "include_colab_link": true
    },
    "kernelspec": {
      "name": "python3",
      "display_name": "Python 3"
    }
  },
  "cells": [
    {
      "cell_type": "markdown",
      "metadata": {
        "id": "view-in-github",
        "colab_type": "text"
      },
      "source": [
        "<a href=\"https://colab.research.google.com/github/austin0107/Coputational-Thinking/blob/master/%E7%B0%A1%E4%BD%91%E7%AB%B9Week13-3%E4%BD%9C%E6%A5%AD.ipynb\" target=\"_parent\"><img src=\"https://colab.research.google.com/assets/colab-badge.svg\" alt=\"Open In Colab\"/></a>"
      ]
    },
    {
      "cell_type": "code",
      "metadata": {
        "id": "0rNjD27aP-kL",
        "colab": {
          "base_uri": "https://localhost:8080/"
        },
        "outputId": "35a3dfd4-6a42-4d1a-a164-33110ae6cc94"
      },
      "source": [
        "for i in range (1,6,1):\r\n",
        "  print('Hello')"
      ],
      "execution_count": null,
      "outputs": [
        {
          "output_type": "stream",
          "text": [
            "Hello\n",
            "Hello\n",
            "Hello\n",
            "Hello\n",
            "Hello\n"
          ],
          "name": "stdout"
        }
      ]
    },
    {
      "cell_type": "code",
      "metadata": {
        "colab": {
          "base_uri": "https://localhost:8080/"
        },
        "id": "OvJxqBVcsBPy",
        "outputId": "f213f608-6300-45a5-e493-9c2405161196"
      },
      "source": [
        "for i in range (100,89,-3):\r\n",
        "  print(i)"
      ],
      "execution_count": null,
      "outputs": [
        {
          "output_type": "stream",
          "text": [
            "100\n",
            "97\n",
            "94\n",
            "91\n"
          ],
          "name": "stdout"
        }
      ]
    },
    {
      "cell_type": "code",
      "metadata": {
        "id": "Pey6IqtBQJzJ",
        "colab": {
          "base_uri": "https://localhost:8080/"
        },
        "outputId": "ef8679da-3980-4a58-d3e9-affb6d7d68b9"
      },
      "source": [
        "sum = 0\r\n",
        "for i in range (3,13,3):\r\n",
        "  sum = sum + i\r\n",
        "print(sum)"
      ],
      "execution_count": null,
      "outputs": [
        {
          "output_type": "stream",
          "text": [
            "30\n"
          ],
          "name": "stdout"
        }
      ]
    },
    {
      "cell_type": "code",
      "metadata": {
        "colab": {
          "base_uri": "https://localhost:8080/"
        },
        "id": "YThomvHytCeW",
        "outputId": "3949cf7d-a0f6-43d5-9cfc-c6915275278c"
      },
      "source": [
        "start = int(input())\r\n",
        "end = int(input())\r\n",
        "step = int(input())\r\n",
        "for i in range (start,end,step):\r\n",
        "  print(i)"
      ],
      "execution_count": null,
      "outputs": [
        {
          "output_type": "stream",
          "text": [
            "100\n",
            "88\n",
            "-3\n",
            "100\n",
            "97\n",
            "94\n",
            "91\n"
          ],
          "name": "stdout"
        }
      ]
    },
    {
      "cell_type": "code",
      "metadata": {
        "colab": {
          "base_uri": "https://localhost:8080/"
        },
        "id": "C7b2XFC5tmet",
        "outputId": "00879357-8613-4fc9-dbf3-d78ed0614cc5"
      },
      "source": [
        "start = int(input())\r\n",
        "end = int(input())\r\n",
        "step = int(input())\r\n",
        "sum = 0\r\n",
        "for i in range (start,end,step):\r\n",
        "  sum = sum + i**2\r\n",
        "print(sum)"
      ],
      "execution_count": null,
      "outputs": [
        {
          "output_type": "stream",
          "text": [
            "1\n",
            "6\n",
            "1\n",
            "55\n"
          ],
          "name": "stdout"
        }
      ]
    },
    {
      "cell_type": "code",
      "metadata": {
        "colab": {
          "base_uri": "https://localhost:8080/"
        },
        "id": "buBCMcfCuhDf",
        "outputId": "adbc94a9-9c75-43e9-a107-1b9489e92231"
      },
      "source": [
        "for i in range(1,10,1):\r\n",
        "  for j in range(1,10,1):\r\n",
        "    print(i, '*', j, '=', i*j, '\\t', end=' ')\r\n",
        "  print()"
      ],
      "execution_count": 25,
      "outputs": [
        {
          "output_type": "stream",
          "text": [
            "1 * 1 = 1 \t 1 * 2 = 2 \t 1 * 3 = 3 \t 1 * 4 = 4 \t 1 * 5 = 5 \t 1 * 6 = 6 \t 1 * 7 = 7 \t 1 * 8 = 8 \t 1 * 9 = 9 \t \n",
            "2 * 1 = 2 \t 2 * 2 = 4 \t 2 * 3 = 6 \t 2 * 4 = 8 \t 2 * 5 = 10 \t 2 * 6 = 12 \t 2 * 7 = 14 \t 2 * 8 = 16 \t 2 * 9 = 18 \t \n",
            "3 * 1 = 3 \t 3 * 2 = 6 \t 3 * 3 = 9 \t 3 * 4 = 12 \t 3 * 5 = 15 \t 3 * 6 = 18 \t 3 * 7 = 21 \t 3 * 8 = 24 \t 3 * 9 = 27 \t \n",
            "4 * 1 = 4 \t 4 * 2 = 8 \t 4 * 3 = 12 \t 4 * 4 = 16 \t 4 * 5 = 20 \t 4 * 6 = 24 \t 4 * 7 = 28 \t 4 * 8 = 32 \t 4 * 9 = 36 \t \n",
            "5 * 1 = 5 \t 5 * 2 = 10 \t 5 * 3 = 15 \t 5 * 4 = 20 \t 5 * 5 = 25 \t 5 * 6 = 30 \t 5 * 7 = 35 \t 5 * 8 = 40 \t 5 * 9 = 45 \t \n",
            "6 * 1 = 6 \t 6 * 2 = 12 \t 6 * 3 = 18 \t 6 * 4 = 24 \t 6 * 5 = 30 \t 6 * 6 = 36 \t 6 * 7 = 42 \t 6 * 8 = 48 \t 6 * 9 = 54 \t \n",
            "7 * 1 = 7 \t 7 * 2 = 14 \t 7 * 3 = 21 \t 7 * 4 = 28 \t 7 * 5 = 35 \t 7 * 6 = 42 \t 7 * 7 = 49 \t 7 * 8 = 56 \t 7 * 9 = 63 \t \n",
            "8 * 1 = 8 \t 8 * 2 = 16 \t 8 * 3 = 24 \t 8 * 4 = 32 \t 8 * 5 = 40 \t 8 * 6 = 48 \t 8 * 7 = 56 \t 8 * 8 = 64 \t 8 * 9 = 72 \t \n",
            "9 * 1 = 9 \t 9 * 2 = 18 \t 9 * 3 = 27 \t 9 * 4 = 36 \t 9 * 5 = 45 \t 9 * 6 = 54 \t 9 * 7 = 63 \t 9 * 8 = 72 \t 9 * 9 = 81 \t \n"
          ],
          "name": "stdout"
        }
      ]
    },
    {
      "cell_type": "code",
      "metadata": {
        "id": "vVigbWEhyN17",
        "colab": {
          "base_uri": "https://localhost:8080/"
        },
        "outputId": "0ce1fd8f-fc75-475e-82b6-dfd3649b3344"
      },
      "source": [
        "people = [\"Mario\", \"Peach\", \"Luigi\", \"Daisy\", \"Toad\", \"Yoshi\"]\r\n",
        "desserts = [\"Star Pudding\", \"Peach Pie\", \"Popsicles\", \"Honey Cake\", \"Cookies\", \"Jelly Beans\"]\r\n",
        "for index in range(len(people)):\r\n",
        "  name = people[index]\r\n",
        "  dessert = desserts[index] \r\n",
        "  print(f'Hi,my name is', name, '.My favorite dessert is', dessert, '.')"
      ],
      "execution_count": null,
      "outputs": [
        {
          "output_type": "stream",
          "text": [
            "Hi,my name is Mario .My favorite dessert is Star Pudding .\n",
            "Hi,my name is Peach .My favorite dessert is Peach Pie .\n",
            "Hi,my name is Luigi .My favorite dessert is Popsicles .\n",
            "Hi,my name is Daisy .My favorite dessert is Honey Cake .\n",
            "Hi,my name is Toad .My favorite dessert is Cookies .\n",
            "Hi,my name is Yoshi .My favorite dessert is Jelly Beans .\n"
          ],
          "name": "stdout"
        }
      ]
    },
    {
      "cell_type": "code",
      "metadata": {
        "colab": {
          "base_uri": "https://localhost:8080/"
        },
        "id": "nLzcm_a7Dfea",
        "outputId": "832ad08d-699b-4d9a-bcc2-a57d1837e767"
      },
      "source": [
        "sum = 0\r\n",
        "price = [100, 150, 120, 90, 145]\r\n",
        "for i in price:\r\n",
        "  sum = sum + i\r\n",
        "print('總金額為', sum)\r\n",
        "aver = sum / 5\r\n",
        "print('平均金額為', aver)"
      ],
      "execution_count": null,
      "outputs": [
        {
          "output_type": "stream",
          "text": [
            "總金額為 605\n",
            "平均金額為 121.0\n"
          ],
          "name": "stdout"
        }
      ]
    },
    {
      "cell_type": "code",
      "metadata": {
        "colab": {
          "base_uri": "https://localhost:8080/"
        },
        "id": "xYc4wrAVFf6j",
        "outputId": "33aa4eab-4d28-4149-8c3c-3c5d5d34d185"
      },
      "source": [
        "sign = ['*', '**', '***', '****', '******']\r\n",
        "for i in sign:\r\n",
        "  print(i)"
      ],
      "execution_count": null,
      "outputs": [
        {
          "output_type": "stream",
          "text": [
            "*\n",
            "**\n",
            "***\n",
            "****\n",
            "******\n"
          ],
          "name": "stdout"
        }
      ]
    },
    {
      "cell_type": "code",
      "metadata": {
        "colab": {
          "base_uri": "https://localhost:8080/"
        },
        "id": "CY06UC09HPQM",
        "outputId": "33fa31e7-4abe-4fed-b0c8-982d4b52aa9a"
      },
      "source": [
        "for i in range(5): \r\n",
        "  print(\" \"*(4-i), end=' ')\r\n",
        "  print(\"* \"*(2*i+1))"
      ],
      "execution_count": null,
      "outputs": [
        {
          "output_type": "stream",
          "text": [
            "     * \n",
            "    * * * \n",
            "   * * * * * \n",
            "  * * * * * * * \n",
            " * * * * * * * * * \n"
          ],
          "name": "stdout"
        }
      ]
    },
    {
      "cell_type": "code",
      "metadata": {
        "id": "gFltxyLqbAeR",
        "colab": {
          "base_uri": "https://localhost:8080/"
        },
        "outputId": "ef7763c3-8ac0-4f34-a463-cf8536c2e741"
      },
      "source": [
        "for i in range(4):\r\n",
        "  print(' '*(3-i), end=' ')\r\n",
        "  print('* '*(3*i+1))"
      ],
      "execution_count": null,
      "outputs": [
        {
          "output_type": "stream",
          "text": [
            "    * \n",
            "   * * * * \n",
            "  * * * * * * * \n",
            " * * * * * * * * * * \n"
          ],
          "name": "stdout"
        }
      ]
    },
    {
      "cell_type": "code",
      "metadata": {
        "id": "pMvDjdEGci6Q",
        "colab": {
          "base_uri": "https://localhost:8080/"
        },
        "outputId": "6e1e24fa-3096-46a7-ab08-f74e17bcbddd"
      },
      "source": [
        "for i in range(1,6):\r\n",
        "  for j in range(1,6):\r\n",
        "    print(i, '*', j, '=', i*j, '\\t', end='')\r\n",
        "  print()"
      ],
      "execution_count": 23,
      "outputs": [
        {
          "output_type": "stream",
          "text": [
            "1 * 1 = 1 \t1 * 2 = 2 \t1 * 3 = 3 \t1 * 4 = 4 \t1 * 5 = 5 \t\n",
            "2 * 1 = 2 \t2 * 2 = 4 \t2 * 3 = 6 \t2 * 4 = 8 \t2 * 5 = 10 \t\n",
            "3 * 1 = 3 \t3 * 2 = 6 \t3 * 3 = 9 \t3 * 4 = 12 \t3 * 5 = 15 \t\n",
            "4 * 1 = 4 \t4 * 2 = 8 \t4 * 3 = 12 \t4 * 4 = 16 \t4 * 5 = 20 \t\n",
            "5 * 1 = 5 \t5 * 2 = 10 \t5 * 3 = 15 \t5 * 4 = 20 \t5 * 5 = 25 \t\n"
          ],
          "name": "stdout"
        }
      ]
    }
  ]
}