{
  "nbformat": 4,
  "nbformat_minor": 0,
  "metadata": {
    "colab": {
      "name": "對話機器人程式碼及腳本.ipynb",
      "provenance": [],
      "authorship_tag": "ABX9TyNmYlzTD3b918uzLH33Gxwl",
      "include_colab_link": true
    },
    "kernelspec": {
      "name": "python3",
      "display_name": "Python 3"
    }
  },
  "cells": [
    {
      "cell_type": "markdown",
      "metadata": {
        "id": "view-in-github",
        "colab_type": "text"
      },
      "source": [
        "<a href=\"https://colab.research.google.com/github/austin0107/Coputational-Thinking/blob/master/%E5%B0%8D%E8%A9%B1%E6%A9%9F%E5%99%A8%E4%BA%BA%E7%A8%8B%E5%BC%8F%E7%A2%BC%E5%8F%8A%E8%85%B3%E6%9C%AC.ipynb\" target=\"_parent\"><img src=\"https://colab.research.google.com/assets/colab-badge.svg\" alt=\"Open In Colab\"/></a>"
      ]
    },
    {
      "cell_type": "markdown",
      "metadata": {
        "id": "HuMn7waH4SoG"
      },
      "source": [
        "# 對話機器人程式碼\r\n"
      ]
    },
    {
      "cell_type": "code",
      "metadata": {
        "id": "dg7p49mSAQ3V"
      },
      "source": [
        "# 打招呼,取得對方名字\r\n",
        "print(\"哈囉,大家好。我是DLYARR,是一個聊天機器人。\")\r\n",
        "hobby = \"我很喜歡上運算思維課程。\"\r\n",
        "print( hobby )\r\n",
        "for n in range(6):\r\n",
        "  names = input(\"嗨!妳好,請問大名?: \")\r\n",
        "  print(\"我叫DLYARR\")\r\n",
        "  print(\"你好\", names, \"很高興認識你\") \r\n",
        "for i in range(6):\r\n",
        "  print(\"Hello DLYARR!\")\r\n",
        "\r\n",
        "# 心情如何\r\n",
        "feeling = input(\"你今天心情如何?; \")\r\n",
        "print(\"告訴我你現在\", feeling, \"的原因。 \")\r\n",
        "reason = input(\"為什麼: \")\r\n",
        "print(\"我知道了。謝謝分享。\")"
      ],
      "execution_count": null,
      "outputs": []
    },
    {
      "cell_type": "code",
      "metadata": {
        "id": "4HfSEAzEARqd"
      },
      "source": [
        "# 自我介紹表格\r\n",
        "print(\"我來幫你把我們的小組成績分布做成表格!\")\r\n",
        "if ans == True:\r\n",
        "   import matplotlib.pyplot as plt\r\n",
        "   values = [20,50,30,50,30,90]\r\n",
        "   x_labels = ['D','L','Y','A','R','R']\r\n",
        "   plt.bar(x_labels,values)\r\n",
        "plt.show()"
      ],
      "execution_count": null,
      "outputs": []
    },
    {
      "cell_type": "code",
      "metadata": {
        "id": "sX_zo9MRARRm"
      },
      "source": [
        "# 興趣\r\n",
        "hobby = input(\"輸入一個興趣\")\r\n",
        "print(\"我的興趣是\",hobby,\"那你的呢？\")\r\n",
        "print(\"我的興趣是研究程式設計\")\r\n",
        "print(\"那想知道你今年幾歲！\")\r\n",
        "print(\"我再過五年就三十歲了\")\r\n",
        "year = int(input(\"輸入年份\"))\r\n",
        "years = year+5\r\n",
        "print(\"想不到你在\", years, \"年就三十歲了\")"
      ],
      "execution_count": null,
      "outputs": []
    },
    {
      "cell_type": "code",
      "metadata": {
        "id": "6hItVF4nANog"
      },
      "source": [
        "# 食物\r\n",
        "print(\"我喜歡西瓜,也喜歡嘗試各種新食物。\")\r\n",
        "food = input(\"你呢。你最喜歡的食物是什麼?: \")\r\n",
        "print(\"我喜歡\", food)\r\n",
        "question = \"你多久吃一次\" + food + \"?: \"\r\n",
        "howoften = input(question)\r\n",
        "print(\"真特別。不知道這樣對健康好不好!\")\r\n",
        "animal = input(\"我最喜歡的動物是長頸鹿。你呢?; \")\r\n",
        "print(animal,'! I do not like them.')\r\n",
        "print(\"不知道\", animal, \"喜不喜歡吃\", food, \"?\")"
      ],
      "execution_count": null,
      "outputs": []
    },
    {
      "cell_type": "code",
      "metadata": {
        "id": "eClnccHSARgl"
      },
      "source": [
        "# 玩遊戲\r\n",
        "n = 0 \r\n",
        "left = 0 \r\n",
        "while n < 10: \r\n",
        "    n = n + 1 \r\n",
        "    left = 10 - n\r\n",
        "    print(\"這是第\", n, \"次的一起來玩遊戲\", \"還有\", left, \"次邀約\")\r\n",
        "secret_number = 21\r\n",
        "n = input(\"猜1和100之間的秘密數\")\r\n",
        "n = int(n) \r\n",
        "while (n != secret_number):\r\n",
        "    if n > secret_number:\r\n",
        "      print(\"你猜的太高,猜低點\")\r\n",
        "    else:\r\n",
        "      print(\"你猜的太低,猜高點\")\r\n",
        "    n = int(input(\"再猜一次\"))\r\n",
        "print(\"你猜對了!\")"
      ],
      "execution_count": null,
      "outputs": []
    },
    {
      "cell_type": "code",
      "metadata": {
        "id": "4r5l0a8UARHO"
      },
      "source": [
        "# 程式設計與告別"
      ],
      "execution_count": null,
      "outputs": []
    }
  ]
}