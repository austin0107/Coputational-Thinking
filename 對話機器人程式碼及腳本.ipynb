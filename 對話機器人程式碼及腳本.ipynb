{
  "nbformat": 4,
  "nbformat_minor": 0,
  "metadata": {
    "colab": {
      "name": "對話機器人程式碼及腳本.ipynb",
      "provenance": [],
      "authorship_tag": "ABX9TyNs20Qy7Tk4o7GzDnijfiGy",
      "include_colab_link": true
    },
    "kernelspec": {
      "name": "python3",
      "display_name": "Python 3"
    }
  },
  "cells": [
    {
      "cell_type": "markdown",
      "metadata": {
        "id": "view-in-github",
        "colab_type": "text"
      },
      "source": [
        "<a href=\"https://colab.research.google.com/github/austin0107/Coputational-Thinking/blob/master/%E5%B0%8D%E8%A9%B1%E6%A9%9F%E5%99%A8%E4%BA%BA%E7%A8%8B%E5%BC%8F%E7%A2%BC%E5%8F%8A%E8%85%B3%E6%9C%AC.ipynb\" target=\"_parent\"><img src=\"https://colab.research.google.com/assets/colab-badge.svg\" alt=\"Open In Colab\"/></a>"
      ]
    },
    {
      "cell_type": "markdown",
      "metadata": {
        "id": "HuMn7waH4SoG"
      },
      "source": [
        "# 對話機器人程式碼\r\n"
      ]
    },
    {
      "cell_type": "code",
      "metadata": {
        "id": "dg7p49mSAQ3V",
        "colab": {
          "base_uri": "https://localhost:8080/"
        },
        "outputId": "bb3d3124-06c5-4133-a875-4adf5b374a92"
      },
      "source": [
        "# 打招呼,取得對方名字\r\n",
        "name = 'DLYARR'\r\n",
        "print(\"哈囉,大家好。我是\", name, \",是一個聊天機器人。\")\r\n",
        "hobby = \"我很喜歡上運算思維課程。\"\r\n",
        "print(hobby)\r\n",
        "for i in range(6):\r\n",
        "  names = input(\"嗨!妳好,請問大名?: \")\r\n",
        "  print(\"我叫DLYARR\")\r\n",
        "  print(\"你好\", names, \"很高興認識你\") \r\n",
        "  print(\"Hello DLYARR!\")\r\n",
        "\r\n",
        "# 心情如何\r\n",
        "feeling = input(\"你今天心情如何?: \")\r\n",
        "print(\"告訴我你現在\", feeling, \"的原因。 \")\r\n",
        "reason = input(\"為什麼: \")\r\n",
        "print(\"我知道了!謝謝分享。\")"
      ],
      "execution_count": 112,
      "outputs": [
        {
          "output_type": "stream",
          "text": [
            "哈囉,大家好。我是 DLYARR ,是一個聊天機器人。\n",
            "我很喜歡上運算思維課程。\n",
            "嗨!妳好,請問大名?: D\n",
            "我叫DLYARR\n",
            "你好 D 很高興認識你\n",
            "Hello DLYARR!\n",
            "嗨!妳好,請問大名?: L\n",
            "我叫DLYARR\n",
            "你好 L 很高興認識你\n",
            "Hello DLYARR!\n",
            "嗨!妳好,請問大名?: Y\n",
            "我叫DLYARR\n",
            "你好 Y 很高興認識你\n",
            "Hello DLYARR!\n",
            "嗨!妳好,請問大名?: A\n",
            "我叫DLYARR\n",
            "你好 A 很高興認識你\n",
            "Hello DLYARR!\n",
            "嗨!妳好,請問大名?: R\n",
            "我叫DLYARR\n",
            "你好 R 很高興認識你\n",
            "Hello DLYARR!\n",
            "嗨!妳好,請問大名?: R\n",
            "我叫DLYARR\n",
            "你好 R 很高興認識你\n",
            "Hello DLYARR!\n",
            "你今天心情如何?: 很開心\n",
            "告訴我你現在 很開心 的原因。 \n",
            "為什麼: 要放寒假了\n",
            "我知道了!謝謝分享。\n"
          ],
          "name": "stdout"
        }
      ]
    },
    {
      "cell_type": "code",
      "metadata": {
        "id": "4HfSEAzEARqd",
        "colab": {
          "base_uri": "https://localhost:8080/",
          "height": 352
        },
        "outputId": "1aa35c11-4394-4aa7-d0d4-23947680d987"
      },
      "source": [
        "# 表格繪製\r\n",
        "print('我很擅長用Python畫表格。')\r\n",
        "question = \"不然我來幫你們把你們的成績做成表格如何?\"\r\n",
        "print(question)\r\n",
        "answer = input('My answer is yes or no : ')\r\n",
        "if answer == 'yes':\r\n",
        "   import matplotlib.pyplot as plt\r\n",
        "   values = [70,54,87,72,65,90]\r\n",
        "   x_labels = ['D','L','Y','A','R1','R2']\r\n",
        "   plt.bar(x_labels,values)\r\n",
        "   print('厲害吧!')\r\n",
        "plt.show()\r\n",
        "print('厲害吧')\r\n",
        "if answer == 'no':\r\n",
        "  print('你真的很難取悅!')"
      ],
      "execution_count": 127,
      "outputs": [
        {
          "output_type": "stream",
          "text": [
            "我很擅長用Python畫表格。\n",
            "不然我來幫你們把你們的成績做成表格如何?\n",
            "My answer is yes or no : yes\n",
            "厲害吧!\n"
          ],
          "name": "stdout"
        },
        {
          "output_type": "display_data",
          "data": {
            "image/png": "[encoded data removed]",
            "text/plain": [
              "<Figure size 432x288 with 1 Axes>"
            ]
          },
          "metadata": {
            "tags": [],
            "needs_background": "light"
          }
        },
        {
          "output_type": "stream",
          "text": [
            "厲害吧\n"
          ],
          "name": "stdout"
        }
      ]
    },
    {
      "cell_type": "code",
      "metadata": {
        "id": "sX_zo9MRARRm",
        "colab": {
          "base_uri": "https://localhost:8080/"
        },
        "outputId": "688c4fb3-6951-4c3a-aac5-7717bae2774a"
      },
      "source": [
        "# 興趣與年紀話題\r\n",
        "hobby = input(\"輸入一個興趣:\")\r\n",
        "print(\"我的興趣是\",hobby,\"那你的呢？\")\r\n",
        "print(\"我的興趣是研究程式設計\")\r\n",
        "print(\"那我想知道你今年幾歲?\")\r\n",
        "age = int(input('Enter a age: '))\r\n",
        "age = age + 5\r\n",
        "print(\"你再過五年就\", age, \"歲了!\")\r\n",
        "year = int(input(\"五年後是西元幾年: \"))\r\n",
        "print(\"想不到你在\", year, \"年就\", age, \"歲了!\")"
      ],
      "execution_count": 117,
      "outputs": [
        {
          "output_type": "stream",
          "text": [
            "輸入一個興趣:吃肉多多\n",
            "我的興趣是 吃肉多多 那你的呢？\n",
            "我的興趣是研究程式設計\n",
            "那我想知道你今年幾歲?\n",
            "Enter a age: 18\n",
            "你再過五年就 23 歲了!\n",
            "五年後是西元幾年: 2021\n",
            "想不到你在 2021 年就 23 歲了!\n"
          ],
          "name": "stdout"
        }
      ]
    },
    {
      "cell_type": "code",
      "metadata": {
        "id": "6hItVF4nANog",
        "colab": {
          "base_uri": "https://localhost:8080/"
        },
        "outputId": "2f9c46ca-044b-4876-ca43-292be1c52b21"
      },
      "source": [
        "# 食物與動物話題\r\n",
        "print(\"我喜歡西瓜,也喜歡嘗試各種新食物。\")\r\n",
        "food = input(\"你呢。你最喜歡的食物是什麼?: \")\r\n",
        "print(\"我喜歡\", food)\r\n",
        "question = \"你多久吃一次\" + food + \"?: \"\r\n",
        "howoften = input(question)\r\n",
        "print(\"真特別!感覺這樣對健康很好。\")\r\n",
        "animal = input(\"我最喜歡的動物是長頸鹿。你呢?: \")\r\n",
        "print('我也喜歡', animal, '!')\r\n",
        "print('而且我養的', animal, '很喜歡吃', food, '。')"
      ],
      "execution_count": 114,
      "outputs": [
        {
          "output_type": "stream",
          "text": [
            "我喜歡西瓜,也喜歡嘗試各種新食物。\n",
            "你呢。你最喜歡的食物是什麼?: 茄子\n",
            "我喜歡 茄子\n",
            "你多久吃一次茄子?: 每天\n",
            "真特別!感覺這樣對健康很好。\n",
            "我最喜歡的動物是長頸鹿。你呢?: 貓咪\n",
            "我也喜歡 貓咪 !\n",
            "而且我養的 貓咪 很喜歡吃 茄子 。\n"
          ],
          "name": "stdout"
        }
      ]
    },
    {
      "cell_type": "code",
      "metadata": {
        "id": "eClnccHSARgl",
        "colab": {
          "base_uri": "https://localhost:8080/"
        },
        "outputId": "646d4cde-aae9-4be4-8a66-34878373be47"
      },
      "source": [
        "# 猜數字遊戲\r\n",
        "print('我們來玩遊戲吧!')\r\n",
        "n = 0 \r\n",
        "left = 0 \r\n",
        "while n < 2: \r\n",
        "    secret_number = int(input('Enter a number: '))\r\n",
        "    i = input(\"猜1和100之間的秘密數: \")\r\n",
        "    i = int(i) \r\n",
        "    while (i != secret_number):\r\n",
        "        if i >= secret_number:\r\n",
        "          print(\"你猜的太高,猜低一點~\")\r\n",
        "        else:\r\n",
        "          print(\"你猜的太低,猜高一點~\")\r\n",
        "        i = int(input(\"再猜一次: \"))\r\n",
        "    print(\"你猜對了!\")\r\n",
        "    n = n + 1 \r\n",
        "    left = 2 - n\r\n",
        "    print(\"這是第\", n, \"次的一起來玩遊戲\", \"還有\", left, \"次邀約。\")    "
      ],
      "execution_count": 115,
      "outputs": [
        {
          "output_type": "stream",
          "text": [
            "我們來玩遊戲吧!\n",
            "Enter a number: 70\n",
            "猜1和100之間的秘密數: 50\n",
            "你猜的太低,猜高一點~\n",
            "再猜一次: 85\n",
            "你猜的太高,猜低一點~\n",
            "再猜一次: 70\n",
            "你猜對了!\n",
            "這是第 1 次的一起來玩遊戲 還有 1 次邀約。\n",
            "Enter a number: 55\n",
            "猜1和100之間的秘密數: 60\n",
            "你猜的太高,猜低一點~\n",
            "再猜一次: 50\n",
            "你猜的太低,猜高一點~\n",
            "再猜一次: 55\n",
            "你猜對了!\n",
            "這是第 2 次的一起來玩遊戲 還有 0 次邀約。\n"
          ],
          "name": "stdout"
        }
      ]
    },
    {
      "cell_type": "code",
      "metadata": {
        "id": "4r5l0a8UARHO",
        "colab": {
          "base_uri": "https://localhost:8080/"
        },
        "outputId": "6e5c847f-7f3d-44f6-f2b5-31c156edee31"
      },
      "source": [
        "# 程式設計與告別\r\n",
        "print('遊戲玩夠了，那你在功課上有什麼問題嗎?')\r\n",
        "ques = name + '那你會算這題的赫氏指數嗎?我功課不會寫...。'\r\n",
        "print(ques)\r\n",
        "print('當然!我幫你~')\r\n",
        "print('謝啦~那我給你廠商的市占百分比~')\r\n",
        "print('沒問題，交給我!')\r\n",
        "hhi = 0\r\n",
        "firm_1 = float(input())\r\n",
        "firm_2 = float(input())\r\n",
        "firm_3 = float(input())\r\n",
        "firm_4 = float(input())\r\n",
        "firms = [firm_1, firm_2, firm_3, firm_4]\r\n",
        "print('有四家廠商，他們的市占百分比分別為',firms)\r\n",
        "for j in firms:\r\n",
        "  hhi = hhi + j**2\r\n",
        "print('經過我的運算，這題的赫氏指數為', hhi, '。')\r\n",
        "print('你還想再聊嗎?')\r\n",
        "ans = input('Enter your answer like yes or no : ')\r\n",
        "if ans == 'yes':\r\n",
        "  print('不過我有點累了，不然下次再聊吧!')\r\n",
        "else:\r\n",
        "  print('那我們下次再聊吧!')\r\n",
        "print('今天跟你們聊天很開心，祝你們運算思維報告得高分!')"
      ],
      "execution_count": 116,
      "outputs": [
        {
          "output_type": "stream",
          "text": [
            "遊戲玩夠了，那你在功課上有什麼問題嗎?\n",
            "DLYARR那你會算這題的赫氏指數嗎?我功課不會寫...。\n",
            "當然!我幫你~\n",
            "謝啦~那我給你廠商的市占百分比~\n",
            "沒問題，交給我!\n",
            "14.4\n",
            "20.8\n",
            "19.6\n",
            "22.5\n",
            "有四家廠商，他們的市占百分比分別為 [14.4, 20.8, 19.6, 22.5]\n",
            "經過我的運算，這題的赫氏指數為 1530.41 。\n",
            "你還想再聊嗎?\n",
            "Enter your answer like yes or no : yes\n",
            "不過我有點累了，不然下次再聊吧!\n",
            "今天跟你們聊天很開心，祝你們運算思維報告得高分!\n"
          ],
          "name": "stdout"
        }
      ]
    },
    {
      "cell_type": "code",
      "metadata": {
        "colab": {
          "base_uri": "https://localhost:8080/",
          "height": 1000
        },
        "id": "oanOUjX0CeF2",
        "outputId": "eff9edb6-02f4-4464-bd0a-fee9718e6841"
      },
      "source": [
        "name = 'DLYARR'\r\n",
        "print(\"哈囉,大家好。我是\", name, \",是一個聊天機器人。\")\r\n",
        "hobby = \"我很喜歡上運算思維課程。\"\r\n",
        "print(hobby)\r\n",
        "for i in range(6):\r\n",
        "  names = input(\"嗨!妳好,請問大名?: \")\r\n",
        "  print(\"我叫DLYARR\")\r\n",
        "  print(\"你好\", names, \"很高興認識你\") \r\n",
        "  print(\"Hello DLYARR!\")\r\n",
        "\r\n",
        "feeling = input(\"你今天心情如何?: \")\r\n",
        "print(\"告訴我你現在\", feeling, \"的原因。 \")\r\n",
        "reason = input(\"為什麼: \")\r\n",
        "print(\"我知道了!謝謝分享。\")\r\n",
        "\r\n",
        "print('我很擅長用Python畫表格。')\r\n",
        "question = \"不然我來幫你們把你們的成績做成表格如何?\"\r\n",
        "print(question)\r\n",
        "answer = input('My answer is yes or no : ')\r\n",
        "if answer == 'yes':\r\n",
        "   import matplotlib.pyplot as plt\r\n",
        "   values = [70,54,87,72,65,90]\r\n",
        "   x_labels = ['D','L','Y','A','R1','R2']\r\n",
        "   plt.bar(x_labels,values)\r\n",
        "   print('厲害吧!')\r\n",
        "plt.show()\r\n",
        "if answer == 'no':\r\n",
        "  print('你真的很難取悅!')\r\n",
        "\r\n",
        "hobby = input(\"輸入一個興趣:\")\r\n",
        "print(\"我的興趣是\",hobby,\"那你的呢？\")\r\n",
        "print(\"我的興趣是研究程式設計\")\r\n",
        "print(\"那我想知道你今年幾歲?\")\r\n",
        "age = int(input('Enter a age: '))\r\n",
        "age = age + 5\r\n",
        "print(\"你再過五年就\", age, \"歲了!\")\r\n",
        "year = int(input(\"五年後是西元幾年: \"))\r\n",
        "print(\"想不到你在\", year, \"年就\", age, \"歲了!\")\r\n",
        "\r\n",
        "print(\"我喜歡西瓜,也喜歡嘗試各種新食物。\")\r\n",
        "food = input(\"你呢。你最喜歡的食物是什麼?: \")\r\n",
        "print(\"我喜歡\", food)\r\n",
        "question = \"你多久吃一次\" + food + \"?: \"\r\n",
        "howoften = input(question)\r\n",
        "print(\"真特別!感覺這樣對健康很好。\")\r\n",
        "animal = input(\"我最喜歡的動物是長頸鹿。你呢?: \")\r\n",
        "print('我也喜歡', animal, '!')\r\n",
        "print('而且我養的', animal, '很喜歡吃', food, '。')\r\n",
        "\r\n",
        "print('我們來玩遊戲吧!')\r\n",
        "n = 0 \r\n",
        "left = 0 \r\n",
        "while n < 2: \r\n",
        "    secret_number = int(input('Enter a number: '))\r\n",
        "    i = input(\"猜1和100之間的秘密數: \")\r\n",
        "    i = int(i) \r\n",
        "    while (i != secret_number):\r\n",
        "        if i >= secret_number:\r\n",
        "          print(\"你猜的太高,猜低一點~\")\r\n",
        "        else:\r\n",
        "          print(\"你猜的太低,猜高一點~\")\r\n",
        "        i = int(input(\"再猜一次: \"))\r\n",
        "    print(\"你猜對了!\")\r\n",
        "    n = n + 1 \r\n",
        "    left = 2 - n\r\n",
        "    print(\"這是第\", n, \"次的一起來玩遊戲\", \"還有\", left, \"次邀約。\")\r\n",
        "\r\n",
        "print('遊戲玩夠了，那你在功課上有什麼問題嗎?')\r\n",
        "ques = name + '那你會算這題的赫氏指數嗎?我功課不會寫...。'\r\n",
        "print(ques)\r\n",
        "print('當然!我幫你~')\r\n",
        "print('謝啦~那我給你廠商的市占百分比~')\r\n",
        "print('沒問題，交給我!')\r\n",
        "hhi = 0\r\n",
        "firm_1 = float(input())\r\n",
        "firm_2 = float(input())\r\n",
        "firm_3 = float(input())\r\n",
        "firm_4 = float(input())\r\n",
        "firms = [firm_1, firm_2, firm_3, firm_4]\r\n",
        "print('有四家廠商，他們的市占百分比分別為',firms)\r\n",
        "for j in firms:\r\n",
        "  hhi = hhi + j**2\r\n",
        "print('經過我的運算，這題的赫氏指數為', hhi, '。')\r\n",
        "print('你還想再聊嗎?')\r\n",
        "ans = input('Enter your answer like yes or no : ')\r\n",
        "if ans == 'yes':\r\n",
        "  print('不過我有點累了，不然下次再聊吧!')\r\n",
        "else:\r\n",
        "  print('那我們下次再聊吧!')\r\n",
        "print('今天跟你們聊天很開心，祝你們運算思維報告得高分!')"
      ],
      "execution_count": 129,
      "outputs": [
        {
          "output_type": "stream",
          "text": [
            "哈囉,大家好。我是 DLYARR ,是一個聊天機器人。\n",
            "我很喜歡上運算思維課程。\n",
            "嗨!妳好,請問大名?: D\n",
            "我叫DLYARR\n",
            "你好 D 很高興認識你\n",
            "Hello DLYARR!\n",
            "嗨!妳好,請問大名?: L\n",
            "我叫DLYARR\n",
            "你好 L 很高興認識你\n",
            "Hello DLYARR!\n",
            "嗨!妳好,請問大名?: Y\n",
            "我叫DLYARR\n",
            "你好 Y 很高興認識你\n",
            "Hello DLYARR!\n",
            "嗨!妳好,請問大名?: A\n",
            "我叫DLYARR\n",
            "你好 A 很高興認識你\n",
            "Hello DLYARR!\n",
            "嗨!妳好,請問大名?: R\n",
            "我叫DLYARR\n",
            "你好 R 很高興認識你\n",
            "Hello DLYARR!\n",
            "嗨!妳好,請問大名?: R\n",
            "我叫DLYARR\n",
            "你好 R 很高興認識你\n",
            "Hello DLYARR!\n",
            "你今天心情如何?: 很開心\n",
            "告訴我你現在 很開心 的原因。 \n",
            "為什麼: 要放寒假了\n",
            "我知道了!謝謝分享。\n",
            "我很擅長用Python畫表格。\n",
            "不然我來幫你們把你們的成績做成表格如何?\n",
            "My answer is yes or no : yes\n",
            "厲害吧!\n"
          ],
          "name": "stdout"
        },
        {
          "output_type": "display_data",
          "data": {
            "image/png": "[encoded data removed]",
            "text/plain": [
              "<Figure size 432x288 with 1 Axes>"
            ]
          },
          "metadata": {
            "tags": [],
            "needs_background": "light"
          }
        },
        {
          "output_type": "stream",
          "text": [
            "輸入一個興趣:吃肉多多\n",
            "我的興趣是 吃肉多多 那你的呢？\n",
            "我的興趣是研究程式設計\n",
            "那我想知道你今年幾歲?\n",
            "Enter a age: 18\n",
            "你再過五年就 23 歲了!\n",
            "五年後是西元幾年: 2026\n",
            "想不到你在 2026 年就 23 歲了!\n",
            "我喜歡西瓜,也喜歡嘗試各種新食物。\n",
            "你呢。你最喜歡的食物是什麼?: 茄子\n",
            "我喜歡 茄子\n",
            "你多久吃一次茄子?: 每天\n",
            "真特別!感覺這樣對健康很好。\n",
            "我最喜歡的動物是長頸鹿。你呢?: 貓咪\n",
            "我也喜歡 貓咪 !\n",
            "而且我養的 貓咪 很喜歡吃 茄子 。\n",
            "我們來玩遊戲吧!\n",
            "Enter a number: 70\n",
            "猜1和100之間的秘密數: 50\n",
            "你猜的太低,猜高一點~\n",
            "再猜一次: 85\n",
            "你猜的太高,猜低一點~\n",
            "再猜一次: 70\n",
            "你猜對了!\n",
            "這是第 1 次的一起來玩遊戲 還有 1 次邀約。\n",
            "Enter a number: 55\n",
            "猜1和100之間的秘密數: 60\n",
            "你猜的太高,猜低一點~\n",
            "再猜一次: 50\n",
            "你猜的太低,猜高一點~\n",
            "再猜一次: 55\n",
            "你猜對了!\n",
            "這是第 2 次的一起來玩遊戲 還有 0 次邀約。\n",
            "遊戲玩夠了，那你在功課上有什麼問題嗎?\n",
            "DLYARR那你會算這題的赫氏指數嗎?我功課不會寫...。\n",
            "當然!我幫你~\n",
            "謝啦~那我給你廠商的市占百分比~\n",
            "沒問題，交給我!\n",
            "14.4\n",
            "20.8\n",
            "19.6\n",
            "22.5\n",
            "有四家廠商，他們的市占百分比分別為 [14.4, 20.8, 19.6, 22.5]\n",
            "經過我的運算，這題的赫氏指數為 1530.41 。\n",
            "你還想再聊嗎?\n",
            "Enter your answer like yes or no : yes\n",
            "不過我有點累了，不然下次再聊吧!\n",
            "今天跟你們聊天很開心，祝你們運算思維報告得高分!\n"
          ],
          "name": "stdout"
        }
      ]
    },
    {
      "cell_type": "markdown",
      "metadata": {
        "id": "m3XEk3N4HUYO"
      },
      "source": [
        "# 對話機器人腳本\r\n",
        "哈囉,大家好。我是 DLYARR ,是一個聊天機器人。\r\n",
        "\r\n",
        "我很喜歡上運算思維課程。\r\n",
        "\r\n",
        "嗨!妳好,請問大名?: D\r\n",
        "\r\n",
        "我叫DLYARR\r\n",
        "\r\n",
        "你好 D 很高興認識你\r\n",
        "\r\n",
        "Hello DLYARR!\r\n",
        "\r\n",
        "嗨!妳好,請問大名?: L\r\n",
        "\r\n",
        "我叫DLYARR\r\n",
        "\r\n",
        "你好 L 很高興認識你\r\n",
        "\r\n",
        "Hello DLYARR!\r\n",
        "\r\n",
        "嗨!妳好,請問大名?: Y\r\n",
        "\r\n",
        "我叫DLYARR\r\n",
        "\r\n",
        "你好 Y 很高興認識你\r\n",
        "\r\n",
        "Hello DLYARR!\r\n",
        "\r\n",
        "嗨!妳好,請問大名?: A\r\n",
        "\r\n",
        "我叫DLYARR\r\n",
        "\r\n",
        "你好 A 很高興認識你\r\n",
        "\r\n",
        "Hello DLYARR!\r\n",
        "\r\n",
        "嗨!妳好,請問大名?: R\r\n",
        "\r\n",
        "我叫DLYARR\r\n",
        "\r\n",
        "你好 R 很高興認識你\r\n",
        "\r\n",
        "Hello DLYARR!\r\n",
        "\r\n",
        "嗨!妳好,請問大名?: R\r\n",
        "\r\n",
        "我叫DLYARR\r\n",
        "\r\n",
        "你好 R 很高興認識你\r\n",
        "\r\n",
        "Hello DLYARR!\r\n",
        "\r\n",
        "你今天心情如何?: 很開心\r\n",
        "\r\n",
        "告訴我你現在 很開心 的原因。 \r\n",
        "\r\n",
        "為什麼: 要放寒假了\r\n",
        "\r\n",
        "我知道了!謝謝分享。\r\n",
        "\r\n",
        "我很擅長用Python畫表格。\r\n",
        "\r\n",
        "不然我來幫你們把你們的成績做成表格如何?\r\n",
        "\r\n",
        "My answer is yes or no: yes\r\n",
        "\r\n",
        "厲害吧!\r\n",
        "\r\n",
        "輸入一個興趣:吃肉多多\r\n",
        "\r\n",
        "我的興趣是 吃肉多多 那你的呢？\r\n",
        "\r\n",
        "我的興趣是研究程式設計\r\n",
        "\r\n",
        "那我想知道你今年幾歲?\r\n",
        "\r\n",
        "Enter a age: 18\r\n",
        "\r\n",
        "你再過五年就 23 歲了!\r\n",
        "\r\n",
        "五年後是西元幾年: 2026\r\n",
        "\r\n",
        "想不到你在 2026 年就 23 歲了!\r\n",
        "\r\n",
        "我喜歡西瓜,也喜歡嘗試各種新食物。\r\n",
        "\r\n",
        "你呢。你最喜歡的食物是什麼?: 茄子\r\n",
        "\r\n",
        "我喜歡 茄子\r\n",
        "\r\n",
        "你多久吃一次茄子?: 每天\r\n",
        "\r\n",
        "真特別!感覺這樣對健康很好。\r\n",
        "\r\n",
        "我最喜歡的動物是長頸鹿。你呢?: 貓咪\r\n",
        "\r\n",
        "我也喜歡 貓咪 !\r\n",
        "\r\n",
        "而且我養的 貓咪 很喜歡吃 茄子 。\r\n",
        "\r\n",
        "我們來玩遊戲吧!\r\n",
        "\r\n",
        "Enter a number: 70\r\n",
        "\r\n",
        "猜1和100之間的秘密數: 50\r\n",
        "\r\n",
        "你猜的太低,猜高一點~\r\n",
        "\r\n",
        "再猜一次: 85\r\n",
        "\r\n",
        "你猜的太高,猜低一點~\r\n",
        "\r\n",
        "再猜一次: 70\r\n",
        "\r\n",
        "你猜對了!\r\n",
        "\r\n",
        "這是第 1 次的一起來玩遊戲 還有 1 次邀約。\r\n",
        "\r\n",
        "Enter a number: 55\r\n",
        "\r\n",
        "猜1和100之間的秘密數: 60\r\n",
        "\r\n",
        "你猜的太高,猜低一點~\r\n",
        "\r\n",
        "再猜一次: 50\r\n",
        "\r\n",
        "你猜的太低,猜高一點~\r\n",
        "\r\n",
        "再猜一次: 55\r\n",
        "\r\n",
        "你猜對了!\r\n",
        "\r\n",
        "這是第 2 次的一起來玩遊戲 還有 0 次邀約。\r\n",
        "\r\n",
        "遊戲玩夠了，那你在功課上有什麼問題嗎?\r\n",
        "\r\n",
        "DLYARR那你會算這題的赫氏指數嗎?我功課不會寫...。\r\n",
        "\r\n",
        "當然!我幫你~\r\n",
        "\r\n",
        "謝啦~ 那我給你廠商的市占百分比~\r\n",
        "\r\n",
        "沒問題，交給我!\r\n",
        "\r\n",
        "14.4\r\n",
        "\r\n",
        "\r\n",
        "20.8\r\n",
        "\r\n",
        "19.6\r\n",
        "\r\n",
        "22.5\r\n",
        "\r\n",
        "有四家廠商，他們的市占百分比分別為 [14.4, 20.8, 19.6, 22.5]\r\n",
        "\r\n",
        "經過我的運算，這題的赫氏指數為 1530.41 。\r\n",
        "\r\n",
        "你們還想再聊嗎?\r\n",
        "\r\n",
        "Enter your answer like yes or no : yes\r\n",
        "\r\n",
        "不過我有點累了，不然下次再聊吧!\r\n",
        "\r\n",
        "今天跟你們聊天很開心，祝你們運算思維報告得高分!"
      ]
    }
  ]
}