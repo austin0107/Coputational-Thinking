{
  "nbformat": 4,
  "nbformat_minor": 0,
  "metadata": {
    "colab": {
      "name": "簡佑竹Week13-1.ipynb",
      "provenance": [],
      "authorship_tag": "ABX9TyPiJ2q37n/UcPnYgNZbZN29",
      "include_colab_link": true
    },
    "kernelspec": {
      "name": "python3",
      "display_name": "Python 3"
    }
  },
  "cells": [
    {
      "cell_type": "markdown",
      "metadata": {
        "id": "view-in-github",
        "colab_type": "text"
      },
      "source": [
        "<a href=\"https://colab.research.google.com/github/austin0107/Coputational-Thinking/blob/master/%E7%B0%A1%E4%BD%91%E7%AB%B9Week13-1.ipynb\" target=\"_parent\"><img src=\"https://colab.research.google.com/assets/colab-badge.svg\" alt=\"Open In Colab\"/></a>"
      ]
    },
    {
      "cell_type": "code",
      "metadata": {
        "id": "YAvwDoLwWLFc",
        "colab": {
          "base_uri": "https://localhost:8080/"
        },
        "outputId": "5341a39c-9438-4732-e43b-a085f9ca8840"
      },
      "source": [
        "for i in range(5):\n",
        "  print('Hello')"
      ],
      "execution_count": 10,
      "outputs": [
        {
          "output_type": "stream",
          "text": [
            "Hello\n",
            "Hello\n",
            "Hello\n",
            "Hello\n",
            "Hello\n"
          ],
          "name": "stdout"
        }
      ]
    },
    {
      "cell_type": "code",
      "metadata": {
        "colab": {
          "base_uri": "https://localhost:8080/"
        },
        "id": "Ne6EtjvqXSlr",
        "outputId": "2fc37f51-d889-4b72-cc11-26fdf2b261ad"
      },
      "source": [
        "for i in range(0,5,1):\n",
        "  print(i)"
      ],
      "execution_count": 11,
      "outputs": [
        {
          "output_type": "stream",
          "text": [
            "0\n",
            "1\n",
            "2\n",
            "3\n",
            "4\n"
          ],
          "name": "stdout"
        }
      ]
    },
    {
      "cell_type": "code",
      "metadata": {
        "colab": {
          "base_uri": "https://localhost:8080/"
        },
        "id": "KCbpTbBgXfI9",
        "outputId": "0f3bd96c-47f1-4d89-88a9-95a1c14cf50f"
      },
      "source": [
        "for i in range(2,9,2):\n",
        "  print(i)"
      ],
      "execution_count": 12,
      "outputs": [
        {
          "output_type": "stream",
          "text": [
            "2\n",
            "4\n",
            "6\n",
            "8\n"
          ],
          "name": "stdout"
        }
      ]
    },
    {
      "cell_type": "code",
      "metadata": {
        "colab": {
          "base_uri": "https://localhost:8080/"
        },
        "id": "mxYNNaM8YJb9",
        "outputId": "add99341-36f8-4cff-ddf7-b108eaa25848"
      },
      "source": [
        "for i in range(2,6):\n",
        "  print(i)"
      ],
      "execution_count": 13,
      "outputs": [
        {
          "output_type": "stream",
          "text": [
            "2\n",
            "3\n",
            "4\n",
            "5\n"
          ],
          "name": "stdout"
        }
      ]
    },
    {
      "cell_type": "code",
      "metadata": {
        "colab": {
          "base_uri": "https://localhost:8080/"
        },
        "id": "d2Dgqzh2YYUU",
        "outputId": "2293b28d-251b-4899-89c6-c9555be449ce"
      },
      "source": [
        "for i in range(100,90,-3):\n",
        "  print(i)"
      ],
      "execution_count": 14,
      "outputs": [
        {
          "output_type": "stream",
          "text": [
            "100\n",
            "97\n",
            "94\n",
            "91\n"
          ],
          "name": "stdout"
        }
      ]
    },
    {
      "cell_type": "code",
      "metadata": {
        "colab": {
          "base_uri": "https://localhost:8080/"
        },
        "id": "pUQwowa0YnBU",
        "outputId": "657ebde0-900a-4175-dc59-ba9b2c9b9a1c"
      },
      "source": [
        "# 數字1到10之和。\n",
        "## 1+2+3+4+5+6+7+8+9+10=? \n",
        "sum = 0 # 起始值\n",
        "for i in range(1,11): # 加總運算，變更條件\n",
        "  sum = sum + i # 加總運算，變更條件\n",
        "print('Total is', sum) "
      ],
      "execution_count": 17,
      "outputs": [
        {
          "output_type": "stream",
          "text": [
            "Total is 55\n"
          ],
          "name": "stdout"
        }
      ]
    },
    {
      "cell_type": "code",
      "metadata": {
        "colab": {
          "base_uri": "https://localhost:8080/"
        },
        "id": "mULPl6HLY_hF",
        "outputId": "48fb9e9a-fe6e-4643-f846-d0f90cb31315"
      },
      "source": [
        "# 數字1到10奇數之和。\n",
        "## 1+3+5+7+9=?\n",
        "sum = 0 # 起始值\n",
        "for i in range(1,10,2): # 數字串列 [1,3,5,7,9]\n",
        "  sum = sum + i # 加總運算，變更條件\n",
        "print('Total is', sum)"
      ],
      "execution_count": 19,
      "outputs": [
        {
          "output_type": "stream",
          "text": [
            "Total is 25\n"
          ],
          "name": "stdout"
        }
      ]
    },
    {
      "cell_type": "code",
      "metadata": {
        "colab": {
          "base_uri": "https://localhost:8080/"
        },
        "id": "zXo0zqSVaSxi",
        "outputId": "91b04511-7bf7-4a3c-e494-2ff91852791f"
      },
      "source": [
        "# 隨堂練習1.\n",
        "# 數字1到10偶數之和。\n",
        "## 2+4+6+8+10=?\n",
        "sum = 0\n",
        "for i in range(2,11,2):\n",
        "  sum = sum + i\n",
        "print('Total is', sum)"
      ],
      "execution_count": 20,
      "outputs": [
        {
          "output_type": "stream",
          "text": [
            "Total is 30\n"
          ],
          "name": "stdout"
        }
      ]
    },
    {
      "cell_type": "code",
      "metadata": {
        "colab": {
          "base_uri": "https://localhost:8080/"
        },
        "id": "jQ_8C3lgbHw6",
        "outputId": "05c30c1b-ff1a-4f95-c9e0-df9142560e88"
      },
      "source": [
        "# 隨堂練習2.\n",
        "sum = 0\n",
        "for i in range(3,13,3):\n",
        "  sum = sum + i\n",
        "print('Total is', sum)"
      ],
      "execution_count": 21,
      "outputs": [
        {
          "output_type": "stream",
          "text": [
            "Total is 30\n"
          ],
          "name": "stdout"
        }
      ]
    },
    {
      "cell_type": "code",
      "metadata": {
        "colab": {
          "base_uri": "https://localhost:8080/"
        },
        "id": "WljPsePZbZ90",
        "outputId": "cf45b49a-133f-484b-b8e2-aff78fcd27d8"
      },
      "source": [
        "#  加分練習\n",
        "start = int(input('請輸入加總起始值'))\n",
        "end = int(input('請輸入加總最終值')) # 取前一個數字\n",
        "step = int(input('請輸入遞增減值'))\n",
        "\n",
        "sum = 0\n",
        "for i in range(start, end, step):\n",
        "  sum = sum + i\n",
        "print('Total is', sum)"
      ],
      "execution_count": 23,
      "outputs": [
        {
          "output_type": "stream",
          "text": [
            "請輸入加總起始值1\n",
            "請輸入加總最終值11\n",
            "請輸入遞增減值2\n",
            "Total is 25\n"
          ],
          "name": "stdout"
        }
      ]
    }
  ]
}