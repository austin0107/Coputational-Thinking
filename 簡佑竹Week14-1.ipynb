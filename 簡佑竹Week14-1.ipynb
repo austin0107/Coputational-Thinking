{
  "nbformat": 4,
  "nbformat_minor": 0,
  "metadata": {
    "colab": {
      "name": " 簡佑竹Week14-1.ipynb",
      "provenance": [],
      "authorship_tag": "ABX9TyOxU/RtCgDdMWIvWYm+aLF6",
      "include_colab_link": true
    },
    "kernelspec": {
      "name": "python3",
      "display_name": "Python 3"
    }
  },
  "cells": [
    {
      "cell_type": "markdown",
      "metadata": {
        "id": "view-in-github",
        "colab_type": "text"
      },
      "source": [
        "<a href=\"https://colab.research.google.com/github/austin0107/Coputational-Thinking/blob/master/%E7%B0%A1%E4%BD%91%E7%AB%B9Week14-1.ipynb\" target=\"_parent\"><img src=\"https://colab.research.google.com/assets/colab-badge.svg\" alt=\"Open In Colab\"/></a>"
      ]
    },
    {
      "cell_type": "markdown",
      "metadata": {
        "id": "lkObpWsKfbf-"
      },
      "source": [
        "#1. 資料結構: 純量 > 資料容器List\r\n",
        "\r\n",
        "##數字串列: \r\n",
        "list1 = [0,1,2,3,4]\r\n",
        "\r\n",
        "list1 = range(0, 5, 1) #range(0,5), range(5)\r\n",
        "\r\n",
        "##文字串列: \r\n",
        "list2 = [\"A\",\"B\",\"C\"]\r\n",
        "\r\n",
        "##索引切片:\r\n",
        "print(list2[0], list2[1], list[2])\r\n",
        "\r\n",
        "#2. for 迴圈 + range()\r\n",
        "\r\n",
        "## 列印\r\n",
        "for i in range(5):\r\n",
        "  \r\n",
        "  print(i)\r\n",
        "## 加總\r\n",
        "sum = 0\r\n",
        "for i in range(5):\r\n",
        "  sum = sum + i\r\n",
        "  \r\n",
        "  print(i, sum)"
      ]
    },
    {
      "cell_type": "markdown",
      "metadata": {
        "id": "s4TsxjUJjnta"
      },
      "source": [
        "## 習題"
      ]
    },
    {
      "cell_type": "code",
      "metadata": {
        "colab": {
          "base_uri": "https://localhost:8080/"
        },
        "id": "-M6Mvh-uh1zm",
        "outputId": "2d1cdc17-82b2-4ed0-f9c3-4715c5e7e5a3"
      },
      "source": [
        "# 求數字平方和\r\n",
        "## Input\r\n",
        "n = 5 # 或 n = int(input('請輸入n值?'))\r\n",
        "sum = 0\r\n",
        "## Process: for 迴圈，每次加i*i\r\n",
        "for i in range (1, n+1):\r\n",
        "  sum = sum + i*i\r\n",
        "## Output: 列印數字平方和  \r\n",
        "print('Total is', sum)"
      ],
      "execution_count": null,
      "outputs": [
        {
          "output_type": "stream",
          "text": [
            "Total is 55\n"
          ],
          "name": "stdout"
        }
      ]
    },
    {
      "cell_type": "markdown",
      "metadata": {
        "id": "9RRo6h1lj5FU"
      },
      "source": [
        "##3. for 迴圈 + [ ]"
      ]
    },
    {
      "cell_type": "code",
      "metadata": {
        "colab": {
          "base_uri": "https://localhost:8080/"
        },
        "id": "cLWtnrzzkHmX",
        "outputId": "d9125a2c-8217-4c85-fa9d-6110590744dd"
      },
      "source": [
        "## 1. 文字串列應用\r\n",
        "## 2. 文字串列列印比較\r\n",
        "### 方法(一) : 文字串列列印\r\n",
        "sheet = ['牛奶', '蛋', '咖啡']\r\n",
        "for index in [0, 1, 2]:\r\n",
        "  print(index)"
      ],
      "execution_count": null,
      "outputs": [
        {
          "output_type": "stream",
          "text": [
            "0\n",
            "1\n",
            "2\n"
          ],
          "name": "stdout"
        }
      ]
    },
    {
      "cell_type": "code",
      "metadata": {
        "colab": {
          "base_uri": "https://localhost:8080/"
        },
        "id": "XLaq802xllI8",
        "outputId": "37ce2c11-5191-4a82-96f3-f3ae6b4cf675"
      },
      "source": [
        "### 方法(二) : 文字串列列印\r\n",
        "sheet = ['牛奶', '蛋', '咖啡豆']\r\n",
        "for index in [0, 1, 2]:\r\n",
        "  print(index, sheet[index]) #index是索引值,sheet[index]才是項目"
      ],
      "execution_count": null,
      "outputs": [
        {
          "output_type": "stream",
          "text": [
            "0 牛奶\n",
            "1 蛋\n",
            "2 咖啡豆\n"
          ],
          "name": "stdout"
        }
      ]
    },
    {
      "cell_type": "code",
      "metadata": {
        "colab": {
          "base_uri": "https://localhost:8080/"
        },
        "id": "AmlNCyemlxiL",
        "outputId": "7b6b7247-f7e5-416c-992b-be4a56bdb2cc"
      },
      "source": [
        "### 方法(三) : Optional(len()函式)\r\n",
        "sheet = ['牛奶', '蛋', '咖啡豆']\r\n",
        "for index in range(0,len(sheet)):\r\n",
        "  print(index,sheet[index])"
      ],
      "execution_count": null,
      "outputs": [
        {
          "output_type": "stream",
          "text": [
            "0 牛奶\n",
            "1 蛋\n",
            "2 咖啡豆\n"
          ],
          "name": "stdout"
        }
      ]
    },
    {
      "cell_type": "markdown",
      "metadata": {
        "id": "_0TDPBxtnvUX"
      },
      "source": [
        "## 作業"
      ]
    },
    {
      "cell_type": "code",
      "metadata": {
        "colab": {
          "base_uri": "https://localhost:8080/"
        },
        "id": "TkphQyTEnx3G",
        "outputId": "e02efcba-1d72-44cd-bc07-b43cf63ca727"
      },
      "source": [
        "people = [\"Mario\", \"Peach\", \"Luigi\", \"Daisy\", \"Toad\", \"Yoshi\"]\r\n",
        "desserts = [\"Star Pudding\", \"Peach Pie\", \"Popsicles\", \"Honey Cake\", \"Cookies\", \"Jelly Beans\"]\r\n",
        "for index in [0, 1, 2, 3, 4, 5]: #也可以用range(0,len(people)), range(0,len(dessert))\r\n",
        "  name = people[index]\r\n",
        "  dessert = desserts[index]\r\n",
        "  print('Hi,My name is', name, '.My favorite dessert is', dessert, '.')"
      ],
      "execution_count": null,
      "outputs": [
        {
          "output_type": "stream",
          "text": [
            "Hi,My name is Mario .My favorite dessert is Star Pudding .\n",
            "Hi,My name is Peach .My favorite dessert is Peach Pie .\n",
            "Hi,My name is Luigi .My favorite dessert is Popsicles .\n",
            "Hi,My name is Daisy .My favorite dessert is Honey Cake .\n",
            "Hi,My name is Toad .My favorite dessert is Cookies .\n",
            "Hi,My name is Yoshi .My favorite dessert is Jelly Beans .\n"
          ],
          "name": "stdout"
        }
      ]
    },
    {
      "cell_type": "markdown",
      "metadata": {
        "id": "W_6dAcrgp7CR"
      },
      "source": [
        "## 4.巢狀迴圈"
      ]
    },
    {
      "cell_type": "code",
      "metadata": {
        "colab": {
          "base_uri": "https://localhost:8080/"
        },
        "id": "PXOwVcwmqDV1",
        "outputId": "e18bfbe2-36bd-43cb-a612-3c9d5aec8d77"
      },
      "source": [
        "for i in range(1,10): #外層迴圈用 i\r\n",
        "  for j in range(1,10): #內層迴圈用 j\r\n",
        "    print(i, '*', j, '=', i*j, '\\t', sep=' ', end=' ') # '\\t' 讓每行的每個項目不要擠在一起    # sep=' '讓每個變數中間空一格   # end=' '讓每拿完一個i跟j結束後空一格\r\n",
        "  print() #每行輸出後換行 外伸變一行 內縮變一列"
      ],
      "execution_count": 20,
      "outputs": [
        {
          "output_type": "stream",
          "text": [
            "1 * 1 = 1 \t 1 * 2 = 2 \t 1 * 3 = 3 \t 1 * 4 = 4 \t 1 * 5 = 5 \t 1 * 6 = 6 \t 1 * 7 = 7 \t 1 * 8 = 8 \t 1 * 9 = 9 \t \n",
            "2 * 1 = 2 \t 2 * 2 = 4 \t 2 * 3 = 6 \t 2 * 4 = 8 \t 2 * 5 = 10 \t 2 * 6 = 12 \t 2 * 7 = 14 \t 2 * 8 = 16 \t 2 * 9 = 18 \t \n",
            "3 * 1 = 3 \t 3 * 2 = 6 \t 3 * 3 = 9 \t 3 * 4 = 12 \t 3 * 5 = 15 \t 3 * 6 = 18 \t 3 * 7 = 21 \t 3 * 8 = 24 \t 3 * 9 = 27 \t \n",
            "4 * 1 = 4 \t 4 * 2 = 8 \t 4 * 3 = 12 \t 4 * 4 = 16 \t 4 * 5 = 20 \t 4 * 6 = 24 \t 4 * 7 = 28 \t 4 * 8 = 32 \t 4 * 9 = 36 \t \n",
            "5 * 1 = 5 \t 5 * 2 = 10 \t 5 * 3 = 15 \t 5 * 4 = 20 \t 5 * 5 = 25 \t 5 * 6 = 30 \t 5 * 7 = 35 \t 5 * 8 = 40 \t 5 * 9 = 45 \t \n",
            "6 * 1 = 6 \t 6 * 2 = 12 \t 6 * 3 = 18 \t 6 * 4 = 24 \t 6 * 5 = 30 \t 6 * 6 = 36 \t 6 * 7 = 42 \t 6 * 8 = 48 \t 6 * 9 = 54 \t \n",
            "7 * 1 = 7 \t 7 * 2 = 14 \t 7 * 3 = 21 \t 7 * 4 = 28 \t 7 * 5 = 35 \t 7 * 6 = 42 \t 7 * 7 = 49 \t 7 * 8 = 56 \t 7 * 9 = 63 \t \n",
            "8 * 1 = 8 \t 8 * 2 = 16 \t 8 * 3 = 24 \t 8 * 4 = 32 \t 8 * 5 = 40 \t 8 * 6 = 48 \t 8 * 7 = 56 \t 8 * 8 = 64 \t 8 * 9 = 72 \t \n",
            "9 * 1 = 9 \t 9 * 2 = 18 \t 9 * 3 = 27 \t 9 * 4 = 36 \t 9 * 5 = 45 \t 9 * 6 = 54 \t 9 * 7 = 63 \t 9 * 8 = 72 \t 9 * 9 = 81 \t \n"
          ],
          "name": "stdout"
        }
      ]
    },
    {
      "cell_type": "markdown",
      "metadata": {
        "id": "S_pSXO2NUb2f"
      },
      "source": [
        "## 加分作業-1"
      ]
    },
    {
      "cell_type": "code",
      "metadata": {
        "colab": {
          "base_uri": "https://localhost:8080/"
        },
        "id": "RxSdWmhpUb_3",
        "outputId": "9129affe-9f72-474a-81e4-4c8a82371643"
      },
      "source": [
        "sign = ['*', '**', '***', '****', '******']\r\n",
        "for i in sign:\r\n",
        "  print(i)"
      ],
      "execution_count": 2,
      "outputs": [
        {
          "output_type": "stream",
          "text": [
            "*\n",
            "**\n",
            "***\n",
            "****\n",
            "******\n"
          ],
          "name": "stdout"
        }
      ]
    },
    {
      "cell_type": "code",
      "metadata": {
        "colab": {
          "base_uri": "https://localhost:8080/"
        },
        "id": "PJ5DfcBeaMXO",
        "outputId": "96160311-0ebc-4826-b901-0156aa01b5f1"
      },
      "source": [
        "for index in range(5):\r\n",
        "  print('* '*(index+1))"
      ],
      "execution_count": 25,
      "outputs": [
        {
          "output_type": "stream",
          "text": [
            "* \n",
            "* * \n",
            "* * * \n",
            "* * * * \n",
            "* * * * * \n"
          ],
          "name": "stdout"
        }
      ]
    },
    {
      "cell_type": "markdown",
      "metadata": {
        "id": "PlWjOoE0U3jf"
      },
      "source": [
        "## 加分作業-2"
      ]
    },
    {
      "cell_type": "code",
      "metadata": {
        "colab": {
          "base_uri": "https://localhost:8080/"
        },
        "id": "I9brluGxU3zj",
        "outputId": "bd8eb67a-74c9-4f9c-c6a0-1587d9d98dd3"
      },
      "source": [
        "for i in range(5): \r\n",
        "  print(\" \"*(4-i), end=' ')\r\n",
        "  print(\"* \"*(2*i+1))"
      ],
      "execution_count": 16,
      "outputs": [
        {
          "output_type": "stream",
          "text": [
            "     * \n",
            "    * * * \n",
            "   * * * * * \n",
            "  * * * * * * * \n",
            " * * * * * * * * * \n"
          ],
          "name": "stdout"
        }
      ]
    },
    {
      "cell_type": "markdown",
      "metadata": {
        "id": "fE5GSzxAUcYC"
      },
      "source": [
        "## 加分作業-3"
      ]
    },
    {
      "cell_type": "code",
      "metadata": {
        "colab": {
          "base_uri": "https://localhost:8080/"
        },
        "id": "UIUkNqhbUcig",
        "outputId": "c0ec66c4-54c3-4146-dc5c-a0ff22ba657f"
      },
      "source": [
        "sum = 0\r\n",
        "price = [100, 150, 120, 90, 145]\r\n",
        "for i in price:\r\n",
        "  sum = sum + i\r\n",
        "print('總金額為', sum)\r\n",
        "aver = sum / 5\r\n",
        "print('平均金額為', aver)"
      ],
      "execution_count": 1,
      "outputs": [
        {
          "output_type": "stream",
          "text": [
            "總金額為 605\n",
            "平均金額為 121.0\n"
          ],
          "name": "stdout"
        }
      ]
    }
  ]
}