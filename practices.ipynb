{
  "nbformat": 4,
  "nbformat_minor": 0,
  "metadata": {
    "colab": {
      "name": "123.ipynb",
      "provenance": [],
      "authorship_tag": "ABX9TyNth8vaB9CQOTTmTm/TGXVM",
      "include_colab_link": true
    },
    "kernelspec": {
      "name": "python3",
      "display_name": "Python 3"
    }
  },
  "cells": [
    {
      "cell_type": "markdown",
      "metadata": {
        "id": "view-in-github",
        "colab_type": "text"
      },
      "source": [
        "<a href=\"https://colab.research.google.com/github/austin0107/Coputational-Thinking/blob/master/practices.ipynb\" target=\"_parent\"><img src=\"https://colab.research.google.com/assets/colab-badge.svg\" alt=\"Open In Colab\"/></a>"
      ]
    },
    {
      "cell_type": "code",
      "metadata": {
        "colab": {
          "base_uri": "https://localhost:8080/"
        },
        "id": "tmnp2UKQ9DCM",
        "outputId": "7843f583-c319-4469-c42d-56b4a0767440"
      },
      "source": [
        "a = list('123456789')\n",
        "print('a[:]為',a[:])"
      ],
      "execution_count": 11,
      "outputs": [
        {
          "output_type": "stream",
          "text": [
            "a[:]為 ['1', '2', '3', '4', '5', '6', '7', '8', '9']\n"
          ],
          "name": "stdout"
        }
      ]
    },
    {
      "cell_type": "code",
      "metadata": {
        "colab": {
          "base_uri": "https://localhost:8080/"
        },
        "id": "7NnWKW9lVqmv",
        "outputId": "5ce4b888-2fb7-4123-d925-7c4d4ff2573b"
      },
      "source": [
        "number = int(input('enter your number'))\n",
        "if number%2 :\n",
        "  print('Please come in .')\n",
        "else :\n",
        "  print('Get out !')"
      ],
      "execution_count": 31,
      "outputs": [
        {
          "output_type": "stream",
          "text": [
            "enter your number57\n",
            "Please come in .\n"
          ],
          "name": "stdout"
        }
      ]
    }
  ]
}