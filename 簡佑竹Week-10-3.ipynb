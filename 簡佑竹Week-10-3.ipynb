{
  "nbformat": 4,
  "nbformat_minor": 0,
  "metadata": {
    "colab": {
      "name": "week9.ipynb",
      "provenance": [],
      "authorship_tag": "ABX9TyM47kKZha+tx6khayJxIqkS",
      "include_colab_link": true
    },
    "kernelspec": {
      "name": "python3",
      "display_name": "Python 3"
    }
  },
  "cells": [
    {
      "cell_type": "markdown",
      "metadata": {
        "id": "view-in-github",
        "colab_type": "text"
      },
      "source": [
        "<a href=\"https://colab.research.google.com/github/austin0107/Coputational-Thinking/blob/master/%E7%B0%A1%E4%BD%91%E7%AB%B9Week-10-3.ipynb\" target=\"_parent\"><img src=\"https://colab.research.google.com/assets/colab-badge.svg\" alt=\"Open In Colab\"/></a>"
      ]
    },
    {
      "cell_type": "code",
      "metadata": {
        "id": "ADxoWb57J8es",
        "colab": {
          "base_uri": "https://localhost:8080/"
        },
        "outputId": "06f5dd04-174b-492b-efb8-a63440e74c9f"
      },
      "source": [
        "seat_number = int(input('Enter the seat_number '))\n",
        "import math\n",
        "group = math.ceil(seat_number/5) #小數點後無條件進位\n",
        "print('Number',seat_number,'is in group',group)"
      ],
      "execution_count": 31,
      "outputs": [
        {
          "output_type": "stream",
          "text": [
            "Enter the seat_number 19\n",
            "Number 19 is in group 4\n"
          ],
          "name": "stdout"
        }
      ]
    },
    {
      "cell_type": "code",
      "metadata": {
        "id": "MBrJ_toTATi6",
        "outputId": "f1e72df8-dd0f-439c-9ef7-5653709e058b",
        "colab": {
          "base_uri": "https://localhost:8080/"
        }
      },
      "source": [
        "seat_number = int(input('Enter your seat number '))\n",
        "seat_number1 = seat_number+2\n",
        "group = round(seat_number1/5)\n",
        "print('Number',seat_number,'is in group',group)"
      ],
      "execution_count": 30,
      "outputs": [
        {
          "output_type": "stream",
          "text": [
            "Enter your seat number 19\n",
            "Number 19 is in group 4\n"
          ],
          "name": "stdout"
        }
      ]
    }
  ]
}