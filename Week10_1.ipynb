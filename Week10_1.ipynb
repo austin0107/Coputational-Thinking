{
  "nbformat": 4,
  "nbformat_minor": 0,
  "metadata": {
    "colab": {
      "name": "Week10-1.ipynb",
      "provenance": [],
      "authorship_tag": "ABX9TyMs9/z16M2HWX1SUPIgmT+v",
      "include_colab_link": true
    },
    "kernelspec": {
      "name": "python3",
      "display_name": "Python 3"
    }
  },
  "cells": [
    {
      "cell_type": "markdown",
      "metadata": {
        "id": "view-in-github",
        "colab_type": "text"
      },
      "source": [
        "<a href=\"https://colab.research.google.com/github/austin0107/Coputational-Thinking/blob/master/Week10_1.ipynb\" target=\"_parent\"><img src=\"https://colab.research.google.com/assets/colab-badge.svg\" alt=\"Open In Colab\"/></a>"
      ]
    },
    {
      "cell_type": "code",
      "metadata": {
        "colab": {
          "base_uri": "https://localhost:8080/"
        },
        "id": "p6pxzrIiVAH5",
        "outputId": "6ff513c8-9354-480f-d870-f6cd1ae65b12"
      },
      "source": [
        "#  寫程式是怎麼一回事\n",
        "\n",
        "## Question: [魔球]那部電影值不值得看? 老闆想了解一下那部電影的相關資訊\n",
        "\n",
        "# Step1 : 上網找 哪裡找 找什麼 如何回覆\n",
        "## 從IMDb電影資料庫找出要記錄的魔球電影相關資訊\n",
        "## 網址 : https://www.imdb.com/title/tt1210166/?ref_=fn_al_tt_1\n",
        "## 相關資訊 : 電影名稱 、電影上映年份 、電影時間長度 、電影的導演 、電影的主角\n",
        "\n",
        "# Step2 : Input-Process-Output\n",
        "\n",
        "# Step3 : Coding\n",
        "\n",
        "movie_title = \"money_ball\"\n",
        "release_year = \"2011\"\n",
        "movie_time_mins = 133\n",
        "movie_rating = 7.6\n",
        "\n",
        "director = \"\\n Bennett Miller\"\n",
        "stars_1 = \"\\n Brad Pitt\"\n",
        "stars_2 = \"\\n Robin Wright\"\n",
        "stars_3 = \"\\n Jonah Hill\"\n",
        "\n",
        "print(\"電影英文名稱\",movie_title)\n",
        "print(\"電影上映年份\",release_year)\n",
        "print(\"電影時間長度\",movie_time_mins)\n",
        "print(\"電影的導演\",director)\n",
        "print(\"電影主角\",stars_1,stars_2,stars_3)"
      ],
      "execution_count": 2,
      "outputs": [
        {
          "output_type": "stream",
          "text": [
            "電影英文名稱 money_ball\n",
            "電影上映年份 2011\n",
            "電影時間長度 133\n",
            "電影的導演 \n",
            " Bennett Miller\n",
            "電影主角 \n",
            " Brad Pitt \n",
            " Robin Wright \n",
            " Jonah Hill\n"
          ],
          "name": "stdout"
        }
      ]
    }
  ]
}