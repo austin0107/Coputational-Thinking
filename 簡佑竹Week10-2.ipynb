{
  "nbformat": 4,
  "nbformat_minor": 0,
  "metadata": {
    "colab": {
      "name": "Week10-2.ipynb",
      "provenance": [],
      "authorship_tag": "ABX9TyMHh93HAicWmhVJ6MKsjw8L",
      "include_colab_link": true
    },
    "kernelspec": {
      "name": "python3",
      "display_name": "Python 3"
    }
  },
  "cells": [
    {
      "cell_type": "markdown",
      "metadata": {
        "id": "view-in-github",
        "colab_type": "text"
      },
      "source": [
        "<a href=\"https://colab.research.google.com/github/austin0107/Coputational-Thinking/blob/master/Week10_2.ipynb\" target=\"_parent\"><img src=\"https://colab.research.google.com/assets/colab-badge.svg\" alt=\"Open In Colab\"/></a>"
      ]
    },
    {
      "cell_type": "code",
      "metadata": {
        "colab": {
          "base_uri": "https://localhost:8080/"
        },
        "id": "UEiwaJNRtsGM",
        "outputId": "6912bdf1-3d3c-4c2e-8399-f2139d18a2ab"
      },
      "source": [
        "# Input Data\n",
        "\n",
        "time = 123\n",
        "\n",
        "# Process\n",
        "\n",
        "hour = (time // 60) #商數\n",
        "min = (time % 60) #餘數\n",
        "\n",
        "# Output\n",
        "\n",
        "print(time,'mins is',hour,'hours',min,'mins')\n",
        "\n",
        "## Process\n",
        "\n",
        "hour1 = int(time / 60) #除法與整數\n",
        "min1 = (time / 60 - hour1) * 60\n",
        "import math\n",
        "min1 = round(min1)\n",
        "print(time,'mins is',hour1,'hours',min1,'mins')"
      ],
      "execution_count": 5,
      "outputs": [
        {
          "output_type": "stream",
          "text": [
            "123 mins is 2 hours 3 mins\n",
            "123 mins is 2 hours 3 mins\n"
          ],
          "name": "stdout"
        }
      ]
    }
  ]
}
