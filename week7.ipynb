{
  "nbformat": 4,
  "nbformat_minor": 0,
  "metadata": {
    "colab": {
      "name": "week7.ipynb",
      "provenance": [],
      "authorship_tag": "ABX9TyO0RlYE7Bfd70Eb5Z0x6q61",
      "include_colab_link": true
    },
    "kernelspec": {
      "name": "python3",
      "display_name": "Python 3"
    }
  },
  "cells": [
    {
      "cell_type": "markdown",
      "metadata": {
        "id": "view-in-github",
        "colab_type": "text"
      },
      "source": [
        "<a href=\"https://colab.research.google.com/github/austin0107/Coputational-Thinking/blob/master/week7.ipynb\" target=\"_parent\"><img src=\"https://colab.research.google.com/assets/colab-badge.svg\" alt=\"Open In Colab\"/></a>"
      ]
    },
    {
      "cell_type": "code",
      "metadata": {
        "id": "lYNS9Bz5TpIo",
        "outputId": "be20980c-5db0-4f7d-bc5b-7dea481b1332",
        "colab": {
          "base_uri": "https://localhost:8080/"
        }
      },
      "source": [
        "magic_number = 0\n",
        "a = 10\n",
        "b = 667\n",
        "magic_number = (a**3%b)\n",
        "print(magic_number)"
      ],
      "execution_count": 40,
      "outputs": [
        {
          "output_type": "stream",
          "text": [
            "333\n"
          ],
          "name": "stdout"
        }
      ]
    },
    {
      "cell_type": "markdown",
      "metadata": {
        "id": "iRGWpiwVbonf"
      },
      "source": [
        "1.(C)\n",
        "2.(B)\n",
        "3.(A)\n",
        "4.(D)\n",
        "5.(D)\n",
        "6.(B)\n",
        "7.(A)\n",
        "8.(A)\n",
        "9.(B)\n",
        "10.(B)\n",
        "11.(C)\n",
        "12.(A)\n",
        "13.(B)\n",
        "14.(D)\n",
        "15.(B)"
      ]
    }
  ]
}