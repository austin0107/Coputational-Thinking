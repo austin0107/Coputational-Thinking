{
  "nbformat": 4,
  "nbformat_minor": 0,
  "metadata": {
    "colab": {
      "name": "chatbot.ipynb",
      "provenance": [],
      "authorship_tag": "ABX9TyNJVHW0Ru/8mUtCdln+3rpM",
      "include_colab_link": true
    },
    "kernelspec": {
      "name": "python3",
      "display_name": "Python 3"
    }
  },
  "cells": [
    {
      "cell_type": "markdown",
      "metadata": {
        "id": "view-in-github",
        "colab_type": "text"
      },
      "source": [
        "<a href=\"https://colab.research.google.com/github/austin0107/Coputational-Thinking/blob/master/%E7%B0%A1%E4%BD%91%E7%AB%B9Week11-2.ipynb\" target=\"_parent\"><img src=\"https://colab.research.google.com/assets/colab-badge.svg\" alt=\"Open In Colab\"/></a>"
      ]
    },
    {
      "cell_type": "code",
      "metadata": {
        "colab": {
          "base_uri": "https://localhost:8080/"
        },
        "id": "5Y9BxaEkgTeG",
        "outputId": "4b4a1bff-2855-4189-f20e-91571b58dcbc"
      },
      "source": [
        "# chatbot introduction\n",
        "print('Hello. I am Zyxo 64. I am a chatbot.')\n",
        "print('I like animals and I love to talk about food.')\n",
        "name = input('What is your name? ')\n",
        "print('Hello', name,'. Nice to meet you.')\n",
        "\n",
        "# get year information\n",
        "year = input('I am not very good at dates. What is the year?: ')\n",
        "print('Yes, I think that is correct. Thanks! ')\n",
        "\n",
        "# ask user to guess age\n",
        "my_age = input('Can you guess my age? - enter a number: ')\n",
        "print('Yes, you are right. I am', my_age, 'years old.')\n",
        "\n",
        "# do math to calculate when chatbot will be 100\n",
        "my_age = int(my_age)\n",
        "nyears = 100 - my_age\n",
        "print('I will be 100 in ', nyears,'years ')\n",
        "print('That will be the year', int(year) + nyears)\n",
        "\n",
        "# food conversation\n",
        "print('I love chocolate and Ialso like trying out new kind of food')\n",
        "food = input('How about you? What is your favorite food?: ')\n",
        "print('I like', food, 'too.')\n",
        "question = 'How often do you eat ' + food + '?: '\n",
        "howoften = input(question)\n",
        "print('Interesting. I wonder if that is good for your health')\n",
        "\n",
        "# animal conversation\n",
        "animal = input('My favorite animal is a giraffe. What is yours?: ')\n",
        "print(animal,'! I do not like them.')\n",
        "print('I wonder if a', animal, 'likes to eat', food, '?')\n",
        "\n",
        "# conversation about feelings\n",
        "feeling = input('How are you feeling today?: ')\n",
        "print('Why are you feeling', feeling, 'now?')\n",
        "reason = input('Please tell me: ')\n",
        "print('I understand. Thanks for sharing.')\n",
        "\n",
        "# goodbye\n",
        "print('It has been a long day.')\n",
        "print('I am too tired to talk. We can chat again later.')\n",
        "print('Goodbye', name,'I liked chatting with you.')"
      ],
      "execution_count": null,
      "outputs": [
        {
          "output_type": "stream",
          "text": [
            "Hello. I am Zyxo 64. I am a chatbot.\n",
            "I like animals and I love to talk about food.\n",
            "What is your name? Austin\n",
            "Hello Austin . Nice to meet you.\n",
            "I am not very good at dates. What is the year?: 2020\n",
            "Yes, I think that is correct. Thanks! \n",
            "Can you guess my age? - enter a number: 20\n",
            "Yes, you are right. I am 20 years old.\n",
            "I will be 100 in  80 years \n",
            "That will be the year 2100\n",
            "I love chocolate and Ialso like trying out new kind of food\n",
            "How about you? What is your favorite food?: pizza\n",
            "I like pizza too.\n",
            "How often do you eat pizza?: everyday\n",
            "Interesting. I wonder if that is good for your health\n",
            "My favorite animal is a giraffe. What is yours?: turtle\n",
            "turtle ! I do not like them.\n",
            "I wonder if a turtle likes to eat pizza ?\n",
            "How are you feeling today?: happy\n",
            "Why are you feeling happy now?\n",
            "Please tell me: weekend\n",
            "I understand. Thanks for sharing.\n",
            "It has been a long day.\n",
            "I am too tired to talk. We can chat again later.\n",
            "Goodbye Austin I liked chatting with you.\n"
          ],
          "name": "stdout"
        }
      ]
    }
  ]
}