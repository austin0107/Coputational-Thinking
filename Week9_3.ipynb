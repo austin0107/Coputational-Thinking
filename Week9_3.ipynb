{
  "nbformat": 4,
  "nbformat_minor": 0,
  "metadata": {
    "colab": {
      "name": "Week9-3.ipynb",
      "provenance": [],
      "authorship_tag": "ABX9TyPP1+0mjXyDHs9+lYtT61Zg",
      "include_colab_link": true
    },
    "kernelspec": {
      "name": "python3",
      "display_name": "Python 3"
    }
  },
  "cells": [
    {
      "cell_type": "markdown",
      "metadata": {
        "id": "view-in-github",
        "colab_type": "text"
      },
      "source": [
        "<a href=\"https://colab.research.google.com/github/austin0107/Coputational-Thinking/blob/master/Week9_3.ipynb\" target=\"_parent\"><img src=\"https://colab.research.google.com/assets/colab-badge.svg\" alt=\"Open In Colab\"/></a>"
      ]
    },
    {
      "cell_type": "code",
      "metadata": {
        "id": "BsSnGOrRZUBV",
        "outputId": "69afdf72-2c2e-49b3-9aeb-a7756e10ec66",
        "colab": {
          "base_uri": "https://localhost:8080/"
        }
      },
      "source": [
        "x = 2\n",
        "y = 5\n",
        "print(x + y)\n",
        "print(x - y)\n",
        "print(x * y)\n",
        "print(x / y)\n",
        "print(x // y)\n",
        "print(x % y)\n",
        "print(x ** y)"
      ],
      "execution_count": 1,
      "outputs": [
        {
          "output_type": "stream",
          "text": [
            "7\n",
            "-3\n",
            "10\n",
            "0.4\n",
            "0\n",
            "2\n",
            "32\n"
          ],
          "name": "stdout"
        }
      ]
    },
    {
      "cell_type": "markdown",
      "metadata": {
        "id": "NH4AG3i0b3n0"
      },
      "source": [
        "1. # 標準輸入輸出\n",
        "\n",
        "2. ## input()\n",
        "\n",
        "3. ## print()"
      ]
    },
    {
      "cell_type": "code",
      "metadata": {
        "id": "TTTBC9U7aGw6",
        "outputId": "93b0bc7c-4a3b-4a51-849e-7ca97cbfacfd",
        "colab": {
          "base_uri": "https://localhost:8080/",
          "height": 52
        }
      },
      "source": [
        "input()"
      ],
      "execution_count": 5,
      "outputs": [
        {
          "output_type": "stream",
          "text": [
            "3\n"
          ],
          "name": "stdout"
        },
        {
          "output_type": "execute_result",
          "data": {
            "application/vnd.google.colaboratory.intrinsic+json": {
              "type": "string"
            },
            "text/plain": [
              "'3'"
            ]
          },
          "metadata": {
            "tags": []
          },
          "execution_count": 5
        }
      ]
    },
    {
      "cell_type": "code",
      "metadata": {
        "id": "IeZ0NgIoaPMy",
        "outputId": "a94aa459-b4da-4629-af4e-3f9d761b3a35",
        "colab": {
          "base_uri": "https://localhost:8080/",
          "height": 52
        }
      },
      "source": [
        "input('請輸入數字?')"
      ],
      "execution_count": 9,
      "outputs": [
        {
          "output_type": "stream",
          "text": [
            "請輸入數字?3\n"
          ],
          "name": "stdout"
        },
        {
          "output_type": "execute_result",
          "data": {
            "application/vnd.google.colaboratory.intrinsic+json": {
              "type": "string"
            },
            "text/plain": [
              "'3'"
            ]
          },
          "metadata": {
            "tags": []
          },
          "execution_count": 9
        }
      ]
    },
    {
      "cell_type": "code",
      "metadata": {
        "id": "i_bHd6_Hd3HZ",
        "outputId": "c8561fcc-c190-49dd-acd0-f567e18cd1ef",
        "colab": {
          "base_uri": "https://localhost:8080/"
        }
      },
      "source": [
        "x = 3\n",
        "print(x)"
      ],
      "execution_count": 43,
      "outputs": [
        {
          "output_type": "stream",
          "text": [
            "3\n"
          ],
          "name": "stdout"
        }
      ]
    },
    {
      "cell_type": "code",
      "metadata": {
        "id": "ss_CY1tnd7PQ",
        "outputId": "d616a2a5-d3b6-41a9-a52b-7708c736a8bd",
        "colab": {
          "base_uri": "https://localhost:8080/"
        }
      },
      "source": [
        "print(x, 2, 'Python')"
      ],
      "execution_count": 44,
      "outputs": [
        {
          "output_type": "stream",
          "text": [
            "3 2 Python\n"
          ],
          "name": "stdout"
        }
      ]
    },
    {
      "cell_type": "code",
      "metadata": {
        "id": "QFOLuh2teQUW",
        "outputId": "f9572b30-41e0-45b7-f6af-fb705cc27c03",
        "colab": {
          "base_uri": "https://localhost:8080/"
        }
      },
      "source": [
        "Clothes = int(input('Enter the quantity of the clothes'))\n",
        "Trousers = int(input('Enter the quantity of the trousers'))\n",
        "Vests = int(input('Enter the quantity of the vests'))\n",
        "\n",
        "Total_price = Clothes*300 + Trousers*350 + Vests*400\n",
        "\n",
        "print('The total price of the purchasing is',Total_price)"
      ],
      "execution_count": 45,
      "outputs": [
        {
          "output_type": "stream",
          "text": [
            "Enter the quantity of the clothes5\n",
            "Enter the quantity of the trousers5\n",
            "Enter the quantity of the vests5\n",
            "The total price of the purchasing is 5250\n"
          ],
          "name": "stdout"
        }
      ]
    },
    {
      "cell_type": "code",
      "metadata": {
        "id": "YLdRMHeFgrzG",
        "outputId": "bd6e3ade-c237-4421-d559-4553ee22cd07",
        "colab": {
          "base_uri": "https://localhost:8080/"
        }
      },
      "source": [
        "Cans = int(input('Enter the quantity of the cans'))\n",
        "\n",
        "Total = (Cans//12)*200 + (Cans%12)*20\n",
        "\n",
        "print('The total price of the drinks purchasing ',Total)"
      ],
      "execution_count": 37,
      "outputs": [
        {
          "output_type": "stream",
          "text": [
            "Enter the quantity of the cans30\n",
            "The total price of the drinks purchasing  520\n"
          ],
          "name": "stdout"
        }
      ]
    },
    {
      "cell_type": "code",
      "metadata": {
        "id": "V9ZeQgGkhyj3",
        "outputId": "33a9c0b3-e054-454e-986a-057bae96d478",
        "colab": {
          "base_uri": "https://localhost:8080/"
        }
      },
      "source": [
        "first = int(input('the grade of the first exam'))\n",
        "second = int(input('the grade of the second exam'))\n",
        "final = int(input('the grade of the final exam'))\n",
        "\n",
        "total_grade = first + second + final\n",
        "average = total_grade / 3\n",
        "print('the average grade of these three exam',average) "
      ],
      "execution_count": 35,
      "outputs": [
        {
          "output_type": "stream",
          "text": [
            "the grade of the first exam 75\n",
            "the grade of the second exam 80\n",
            "the grade of the final exam 65\n",
            "the average grade of these three exam 73.33333333333333\n"
          ],
          "name": "stdout"
        }
      ]
    }
  ]
}